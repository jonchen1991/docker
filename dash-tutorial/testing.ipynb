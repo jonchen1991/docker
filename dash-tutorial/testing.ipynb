{
 "cells": [
  {
   "cell_type": "code",
   "execution_count": 2,
   "metadata": {},
   "outputs": [],
   "source": [
    "import numpy as np\n",
    "import pandas as pd\n",
    "import matplotlib.pyplot as plt\n",
    "import dash"
   ]
  },
  {
   "cell_type": "code",
   "execution_count": 9,
   "metadata": {},
   "outputs": [
    {
     "data": {
      "text/plain": [
       "0    1.0\n",
       "1    3.0\n",
       "2    4.0\n",
       "3    NaN\n",
       "4    6.0\n",
       "5    8.0\n",
       "dtype: float64"
      ]
     },
     "execution_count": 9,
     "metadata": {},
     "output_type": "execute_result"
    }
   ],
   "source": [
    "s = pd.Series([1,3,4,np.nan, 6, 8])\n",
    "s"
   ]
  },
  {
   "cell_type": "code",
   "execution_count": 10,
   "metadata": {},
   "outputs": [
    {
     "data": {
      "text/plain": [
       "DatetimeIndex(['2013-01-01', '2013-01-02', '2013-01-03', '2013-01-04',\n",
       "               '2013-01-05', '2013-01-06'],\n",
       "              dtype='datetime64[ns]', freq='D')"
      ]
     },
     "execution_count": 10,
     "metadata": {},
     "output_type": "execute_result"
    }
   ],
   "source": [
    "dates = pd.date_range('20130101',periods=6)\n",
    "dates"
   ]
  },
  {
   "cell_type": "code",
   "execution_count": 12,
   "metadata": {},
   "outputs": [
    {
     "data": {
      "text/html": [
       "<div>\n",
       "<style scoped>\n",
       "    .dataframe tbody tr th:only-of-type {\n",
       "        vertical-align: middle;\n",
       "    }\n",
       "\n",
       "    .dataframe tbody tr th {\n",
       "        vertical-align: top;\n",
       "    }\n",
       "\n",
       "    .dataframe thead th {\n",
       "        text-align: right;\n",
       "    }\n",
       "</style>\n",
       "<table border=\"1\" class=\"dataframe\">\n",
       "  <thead>\n",
       "    <tr style=\"text-align: right;\">\n",
       "      <th></th>\n",
       "      <th>0</th>\n",
       "      <th>1</th>\n",
       "      <th>2</th>\n",
       "      <th>3</th>\n",
       "    </tr>\n",
       "  </thead>\n",
       "  <tbody>\n",
       "    <tr>\n",
       "      <th>2013-01-01</th>\n",
       "      <td>0.483793</td>\n",
       "      <td>0.238814</td>\n",
       "      <td>0.877214</td>\n",
       "      <td>-1.017814</td>\n",
       "    </tr>\n",
       "    <tr>\n",
       "      <th>2013-01-02</th>\n",
       "      <td>-0.777251</td>\n",
       "      <td>-0.616839</td>\n",
       "      <td>-0.003604</td>\n",
       "      <td>-2.266381</td>\n",
       "    </tr>\n",
       "    <tr>\n",
       "      <th>2013-01-03</th>\n",
       "      <td>-0.110232</td>\n",
       "      <td>-2.090959</td>\n",
       "      <td>-0.826944</td>\n",
       "      <td>-1.420333</td>\n",
       "    </tr>\n",
       "    <tr>\n",
       "      <th>2013-01-04</th>\n",
       "      <td>-0.217498</td>\n",
       "      <td>-0.051202</td>\n",
       "      <td>0.839231</td>\n",
       "      <td>-0.876282</td>\n",
       "    </tr>\n",
       "    <tr>\n",
       "      <th>2013-01-05</th>\n",
       "      <td>0.138752</td>\n",
       "      <td>-1.102632</td>\n",
       "      <td>0.349464</td>\n",
       "      <td>-0.450724</td>\n",
       "    </tr>\n",
       "    <tr>\n",
       "      <th>2013-01-06</th>\n",
       "      <td>0.643671</td>\n",
       "      <td>-0.621141</td>\n",
       "      <td>-0.358609</td>\n",
       "      <td>-0.097968</td>\n",
       "    </tr>\n",
       "  </tbody>\n",
       "</table>\n",
       "</div>"
      ],
      "text/plain": [
       "                   0         1         2         3\n",
       "2013-01-01  0.483793  0.238814  0.877214 -1.017814\n",
       "2013-01-02 -0.777251 -0.616839 -0.003604 -2.266381\n",
       "2013-01-03 -0.110232 -2.090959 -0.826944 -1.420333\n",
       "2013-01-04 -0.217498 -0.051202  0.839231 -0.876282\n",
       "2013-01-05  0.138752 -1.102632  0.349464 -0.450724\n",
       "2013-01-06  0.643671 -0.621141 -0.358609 -0.097968"
      ]
     },
     "execution_count": 12,
     "metadata": {},
     "output_type": "execute_result"
    }
   ],
   "source": [
    "df  = pd.DataFrame(np.random.randn(6,4), index=dates)\n",
    "df"
   ]
  },
  {
   "cell_type": "code",
   "execution_count": 13,
   "metadata": {},
   "outputs": [
    {
     "data": {
      "text/html": [
       "<div>\n",
       "<style scoped>\n",
       "    .dataframe tbody tr th:only-of-type {\n",
       "        vertical-align: middle;\n",
       "    }\n",
       "\n",
       "    .dataframe tbody tr th {\n",
       "        vertical-align: top;\n",
       "    }\n",
       "\n",
       "    .dataframe thead th {\n",
       "        text-align: right;\n",
       "    }\n",
       "</style>\n",
       "<table border=\"1\" class=\"dataframe\">\n",
       "  <thead>\n",
       "    <tr style=\"text-align: right;\">\n",
       "      <th></th>\n",
       "      <th>A</th>\n",
       "      <th>B</th>\n",
       "      <th>C</th>\n",
       "      <th>D</th>\n",
       "      <th>E</th>\n",
       "      <th>F</th>\n",
       "    </tr>\n",
       "  </thead>\n",
       "  <tbody>\n",
       "    <tr>\n",
       "      <th>0</th>\n",
       "      <td>1.0</td>\n",
       "      <td>2013-01-02</td>\n",
       "      <td>1.0</td>\n",
       "      <td>3</td>\n",
       "      <td>test</td>\n",
       "      <td>foo</td>\n",
       "    </tr>\n",
       "    <tr>\n",
       "      <th>1</th>\n",
       "      <td>1.0</td>\n",
       "      <td>2013-01-02</td>\n",
       "      <td>1.0</td>\n",
       "      <td>3</td>\n",
       "      <td>train</td>\n",
       "      <td>foo</td>\n",
       "    </tr>\n",
       "    <tr>\n",
       "      <th>2</th>\n",
       "      <td>1.0</td>\n",
       "      <td>2013-01-02</td>\n",
       "      <td>1.0</td>\n",
       "      <td>3</td>\n",
       "      <td>test</td>\n",
       "      <td>foo</td>\n",
       "    </tr>\n",
       "    <tr>\n",
       "      <th>3</th>\n",
       "      <td>1.0</td>\n",
       "      <td>2013-01-02</td>\n",
       "      <td>1.0</td>\n",
       "      <td>3</td>\n",
       "      <td>train</td>\n",
       "      <td>foo</td>\n",
       "    </tr>\n",
       "  </tbody>\n",
       "</table>\n",
       "</div>"
      ],
      "text/plain": [
       "     A          B    C  D      E    F\n",
       "0  1.0 2013-01-02  1.0  3   test  foo\n",
       "1  1.0 2013-01-02  1.0  3  train  foo\n",
       "2  1.0 2013-01-02  1.0  3   test  foo\n",
       "3  1.0 2013-01-02  1.0  3  train  foo"
      ]
     },
     "execution_count": 13,
     "metadata": {},
     "output_type": "execute_result"
    }
   ],
   "source": [
    "df2 = pd.DataFrame({'A': 1.,\n",
    "                    'B': pd.Timestamp('20130102'),\n",
    "                    'C': pd.Series(1, index=list(range(4)), dtype='float32'),\n",
    "                    'D': np.array([3] * 4, dtype='int32'),\n",
    "                    'E': pd.Categorical([\"test\", \"train\", \"test\", \"train\"]),\n",
    "                    'F': 'foo'})\n",
    "df2"
   ]
  },
  {
   "cell_type": "code",
   "execution_count": 16,
   "metadata": {},
   "outputs": [
    {
     "data": {
      "text/html": [
       "<div>\n",
       "<style scoped>\n",
       "    .dataframe tbody tr th:only-of-type {\n",
       "        vertical-align: middle;\n",
       "    }\n",
       "\n",
       "    .dataframe tbody tr th {\n",
       "        vertical-align: top;\n",
       "    }\n",
       "\n",
       "    .dataframe thead th {\n",
       "        text-align: right;\n",
       "    }\n",
       "</style>\n",
       "<table border=\"1\" class=\"dataframe\">\n",
       "  <thead>\n",
       "    <tr style=\"text-align: right;\">\n",
       "      <th></th>\n",
       "      <th>0</th>\n",
       "      <th>1</th>\n",
       "      <th>2</th>\n",
       "      <th>3</th>\n",
       "    </tr>\n",
       "  </thead>\n",
       "  <tbody>\n",
       "    <tr>\n",
       "      <th>2013-01-01</th>\n",
       "      <td>0.483793</td>\n",
       "      <td>0.238814</td>\n",
       "      <td>0.877214</td>\n",
       "      <td>-1.017814</td>\n",
       "    </tr>\n",
       "    <tr>\n",
       "      <th>2013-01-02</th>\n",
       "      <td>-0.777251</td>\n",
       "      <td>-0.616839</td>\n",
       "      <td>-0.003604</td>\n",
       "      <td>-2.266381</td>\n",
       "    </tr>\n",
       "    <tr>\n",
       "      <th>2013-01-03</th>\n",
       "      <td>-0.110232</td>\n",
       "      <td>-2.090959</td>\n",
       "      <td>-0.826944</td>\n",
       "      <td>-1.420333</td>\n",
       "    </tr>\n",
       "    <tr>\n",
       "      <th>2013-01-04</th>\n",
       "      <td>-0.217498</td>\n",
       "      <td>-0.051202</td>\n",
       "      <td>0.839231</td>\n",
       "      <td>-0.876282</td>\n",
       "    </tr>\n",
       "    <tr>\n",
       "      <th>2013-01-05</th>\n",
       "      <td>0.138752</td>\n",
       "      <td>-1.102632</td>\n",
       "      <td>0.349464</td>\n",
       "      <td>-0.450724</td>\n",
       "    </tr>\n",
       "  </tbody>\n",
       "</table>\n",
       "</div>"
      ],
      "text/plain": [
       "                   0         1         2         3\n",
       "2013-01-01  0.483793  0.238814  0.877214 -1.017814\n",
       "2013-01-02 -0.777251 -0.616839 -0.003604 -2.266381\n",
       "2013-01-03 -0.110232 -2.090959 -0.826944 -1.420333\n",
       "2013-01-04 -0.217498 -0.051202  0.839231 -0.876282\n",
       "2013-01-05  0.138752 -1.102632  0.349464 -0.450724"
      ]
     },
     "execution_count": 16,
     "metadata": {},
     "output_type": "execute_result"
    }
   ],
   "source": [
    "df.head()"
   ]
  },
  {
   "cell_type": "code",
   "execution_count": 19,
   "metadata": {},
   "outputs": [
    {
     "data": {
      "text/plain": [
       "DatetimeIndex(['2013-01-01', '2013-01-02', '2013-01-03', '2013-01-04',\n",
       "               '2013-01-05', '2013-01-06'],\n",
       "              dtype='datetime64[ns]', freq='D')"
      ]
     },
     "execution_count": 19,
     "metadata": {},
     "output_type": "execute_result"
    }
   ],
   "source": [
    "df.index"
   ]
  },
  {
   "cell_type": "code",
   "execution_count": 21,
   "metadata": {},
   "outputs": [
    {
     "data": {
      "text/html": [
       "<div>\n",
       "<style scoped>\n",
       "    .dataframe tbody tr th:only-of-type {\n",
       "        vertical-align: middle;\n",
       "    }\n",
       "\n",
       "    .dataframe tbody tr th {\n",
       "        vertical-align: top;\n",
       "    }\n",
       "\n",
       "    .dataframe thead th {\n",
       "        text-align: right;\n",
       "    }\n",
       "</style>\n",
       "<table border=\"1\" class=\"dataframe\">\n",
       "  <thead>\n",
       "    <tr style=\"text-align: right;\">\n",
       "      <th></th>\n",
       "      <th>0</th>\n",
       "      <th>1</th>\n",
       "      <th>2</th>\n",
       "      <th>3</th>\n",
       "    </tr>\n",
       "  </thead>\n",
       "  <tbody>\n",
       "    <tr>\n",
       "      <th>count</th>\n",
       "      <td>6.000000</td>\n",
       "      <td>6.000000</td>\n",
       "      <td>6.000000</td>\n",
       "      <td>6.000000</td>\n",
       "    </tr>\n",
       "    <tr>\n",
       "      <th>mean</th>\n",
       "      <td>0.026873</td>\n",
       "      <td>-0.707327</td>\n",
       "      <td>0.146125</td>\n",
       "      <td>-1.021584</td>\n",
       "    </tr>\n",
       "    <tr>\n",
       "      <th>std</th>\n",
       "      <td>0.515143</td>\n",
       "      <td>0.826075</td>\n",
       "      <td>0.675318</td>\n",
       "      <td>0.762705</td>\n",
       "    </tr>\n",
       "    <tr>\n",
       "      <th>min</th>\n",
       "      <td>-0.777251</td>\n",
       "      <td>-2.090959</td>\n",
       "      <td>-0.826944</td>\n",
       "      <td>-2.266381</td>\n",
       "    </tr>\n",
       "    <tr>\n",
       "      <th>25%</th>\n",
       "      <td>-0.190682</td>\n",
       "      <td>-0.982259</td>\n",
       "      <td>-0.269858</td>\n",
       "      <td>-1.319703</td>\n",
       "    </tr>\n",
       "    <tr>\n",
       "      <th>50%</th>\n",
       "      <td>0.014260</td>\n",
       "      <td>-0.618990</td>\n",
       "      <td>0.172930</td>\n",
       "      <td>-0.947048</td>\n",
       "    </tr>\n",
       "    <tr>\n",
       "      <th>75%</th>\n",
       "      <td>0.397533</td>\n",
       "      <td>-0.192611</td>\n",
       "      <td>0.716789</td>\n",
       "      <td>-0.557113</td>\n",
       "    </tr>\n",
       "    <tr>\n",
       "      <th>max</th>\n",
       "      <td>0.643671</td>\n",
       "      <td>0.238814</td>\n",
       "      <td>0.877214</td>\n",
       "      <td>-0.097968</td>\n",
       "    </tr>\n",
       "  </tbody>\n",
       "</table>\n",
       "</div>"
      ],
      "text/plain": [
       "              0         1         2         3\n",
       "count  6.000000  6.000000  6.000000  6.000000\n",
       "mean   0.026873 -0.707327  0.146125 -1.021584\n",
       "std    0.515143  0.826075  0.675318  0.762705\n",
       "min   -0.777251 -2.090959 -0.826944 -2.266381\n",
       "25%   -0.190682 -0.982259 -0.269858 -1.319703\n",
       "50%    0.014260 -0.618990  0.172930 -0.947048\n",
       "75%    0.397533 -0.192611  0.716789 -0.557113\n",
       "max    0.643671  0.238814  0.877214 -0.097968"
      ]
     },
     "execution_count": 21,
     "metadata": {},
     "output_type": "execute_result"
    }
   ],
   "source": [
    "df.describe()"
   ]
  },
  {
   "cell_type": "code",
   "execution_count": 22,
   "metadata": {},
   "outputs": [
    {
     "data": {
      "text/html": [
       "<div>\n",
       "<style scoped>\n",
       "    .dataframe tbody tr th:only-of-type {\n",
       "        vertical-align: middle;\n",
       "    }\n",
       "\n",
       "    .dataframe tbody tr th {\n",
       "        vertical-align: top;\n",
       "    }\n",
       "\n",
       "    .dataframe thead th {\n",
       "        text-align: right;\n",
       "    }\n",
       "</style>\n",
       "<table border=\"1\" class=\"dataframe\">\n",
       "  <thead>\n",
       "    <tr style=\"text-align: right;\">\n",
       "      <th></th>\n",
       "      <th>2013-01-01</th>\n",
       "      <th>2013-01-02</th>\n",
       "      <th>2013-01-03</th>\n",
       "      <th>2013-01-04</th>\n",
       "      <th>2013-01-05</th>\n",
       "      <th>2013-01-06</th>\n",
       "    </tr>\n",
       "  </thead>\n",
       "  <tbody>\n",
       "    <tr>\n",
       "      <th>0</th>\n",
       "      <td>0.483793</td>\n",
       "      <td>-0.777251</td>\n",
       "      <td>-0.110232</td>\n",
       "      <td>-0.217498</td>\n",
       "      <td>0.138752</td>\n",
       "      <td>0.643671</td>\n",
       "    </tr>\n",
       "    <tr>\n",
       "      <th>1</th>\n",
       "      <td>0.238814</td>\n",
       "      <td>-0.616839</td>\n",
       "      <td>-2.090959</td>\n",
       "      <td>-0.051202</td>\n",
       "      <td>-1.102632</td>\n",
       "      <td>-0.621141</td>\n",
       "    </tr>\n",
       "    <tr>\n",
       "      <th>2</th>\n",
       "      <td>0.877214</td>\n",
       "      <td>-0.003604</td>\n",
       "      <td>-0.826944</td>\n",
       "      <td>0.839231</td>\n",
       "      <td>0.349464</td>\n",
       "      <td>-0.358609</td>\n",
       "    </tr>\n",
       "    <tr>\n",
       "      <th>3</th>\n",
       "      <td>-1.017814</td>\n",
       "      <td>-2.266381</td>\n",
       "      <td>-1.420333</td>\n",
       "      <td>-0.876282</td>\n",
       "      <td>-0.450724</td>\n",
       "      <td>-0.097968</td>\n",
       "    </tr>\n",
       "  </tbody>\n",
       "</table>\n",
       "</div>"
      ],
      "text/plain": [
       "   2013-01-01  2013-01-02  2013-01-03  2013-01-04  2013-01-05  2013-01-06\n",
       "0    0.483793   -0.777251   -0.110232   -0.217498    0.138752    0.643671\n",
       "1    0.238814   -0.616839   -2.090959   -0.051202   -1.102632   -0.621141\n",
       "2    0.877214   -0.003604   -0.826944    0.839231    0.349464   -0.358609\n",
       "3   -1.017814   -2.266381   -1.420333   -0.876282   -0.450724   -0.097968"
      ]
     },
     "execution_count": 22,
     "metadata": {},
     "output_type": "execute_result"
    }
   ],
   "source": [
    "df.T"
   ]
  },
  {
   "cell_type": "code",
   "execution_count": 23,
   "metadata": {},
   "outputs": [
    {
     "data": {
      "text/html": [
       "<div>\n",
       "<style scoped>\n",
       "    .dataframe tbody tr th:only-of-type {\n",
       "        vertical-align: middle;\n",
       "    }\n",
       "\n",
       "    .dataframe tbody tr th {\n",
       "        vertical-align: top;\n",
       "    }\n",
       "\n",
       "    .dataframe thead th {\n",
       "        text-align: right;\n",
       "    }\n",
       "</style>\n",
       "<table border=\"1\" class=\"dataframe\">\n",
       "  <thead>\n",
       "    <tr style=\"text-align: right;\">\n",
       "      <th></th>\n",
       "      <th>3</th>\n",
       "      <th>2</th>\n",
       "      <th>1</th>\n",
       "      <th>0</th>\n",
       "    </tr>\n",
       "  </thead>\n",
       "  <tbody>\n",
       "    <tr>\n",
       "      <th>2013-01-01</th>\n",
       "      <td>-1.017814</td>\n",
       "      <td>0.877214</td>\n",
       "      <td>0.238814</td>\n",
       "      <td>0.483793</td>\n",
       "    </tr>\n",
       "    <tr>\n",
       "      <th>2013-01-02</th>\n",
       "      <td>-2.266381</td>\n",
       "      <td>-0.003604</td>\n",
       "      <td>-0.616839</td>\n",
       "      <td>-0.777251</td>\n",
       "    </tr>\n",
       "    <tr>\n",
       "      <th>2013-01-03</th>\n",
       "      <td>-1.420333</td>\n",
       "      <td>-0.826944</td>\n",
       "      <td>-2.090959</td>\n",
       "      <td>-0.110232</td>\n",
       "    </tr>\n",
       "    <tr>\n",
       "      <th>2013-01-04</th>\n",
       "      <td>-0.876282</td>\n",
       "      <td>0.839231</td>\n",
       "      <td>-0.051202</td>\n",
       "      <td>-0.217498</td>\n",
       "    </tr>\n",
       "    <tr>\n",
       "      <th>2013-01-05</th>\n",
       "      <td>-0.450724</td>\n",
       "      <td>0.349464</td>\n",
       "      <td>-1.102632</td>\n",
       "      <td>0.138752</td>\n",
       "    </tr>\n",
       "    <tr>\n",
       "      <th>2013-01-06</th>\n",
       "      <td>-0.097968</td>\n",
       "      <td>-0.358609</td>\n",
       "      <td>-0.621141</td>\n",
       "      <td>0.643671</td>\n",
       "    </tr>\n",
       "  </tbody>\n",
       "</table>\n",
       "</div>"
      ],
      "text/plain": [
       "                   3         2         1         0\n",
       "2013-01-01 -1.017814  0.877214  0.238814  0.483793\n",
       "2013-01-02 -2.266381 -0.003604 -0.616839 -0.777251\n",
       "2013-01-03 -1.420333 -0.826944 -2.090959 -0.110232\n",
       "2013-01-04 -0.876282  0.839231 -0.051202 -0.217498\n",
       "2013-01-05 -0.450724  0.349464 -1.102632  0.138752\n",
       "2013-01-06 -0.097968 -0.358609 -0.621141  0.643671"
      ]
     },
     "execution_count": 23,
     "metadata": {},
     "output_type": "execute_result"
    }
   ],
   "source": [
    "df.sort_index(axis=1, ascending=False)"
   ]
  },
  {
   "cell_type": "code",
   "execution_count": 25,
   "metadata": {},
   "outputs": [
    {
     "data": {
      "text/html": [
       "<div>\n",
       "<style scoped>\n",
       "    .dataframe tbody tr th:only-of-type {\n",
       "        vertical-align: middle;\n",
       "    }\n",
       "\n",
       "    .dataframe tbody tr th {\n",
       "        vertical-align: top;\n",
       "    }\n",
       "\n",
       "    .dataframe thead th {\n",
       "        text-align: right;\n",
       "    }\n",
       "</style>\n",
       "<table border=\"1\" class=\"dataframe\">\n",
       "  <thead>\n",
       "    <tr style=\"text-align: right;\">\n",
       "      <th></th>\n",
       "      <th>0</th>\n",
       "      <th>1</th>\n",
       "      <th>2</th>\n",
       "      <th>3</th>\n",
       "    </tr>\n",
       "  </thead>\n",
       "  <tbody>\n",
       "    <tr>\n",
       "      <th>2013-01-06</th>\n",
       "      <td>0.643671</td>\n",
       "      <td>-0.621141</td>\n",
       "      <td>-0.358609</td>\n",
       "      <td>-0.097968</td>\n",
       "    </tr>\n",
       "    <tr>\n",
       "      <th>2013-01-05</th>\n",
       "      <td>0.138752</td>\n",
       "      <td>-1.102632</td>\n",
       "      <td>0.349464</td>\n",
       "      <td>-0.450724</td>\n",
       "    </tr>\n",
       "    <tr>\n",
       "      <th>2013-01-04</th>\n",
       "      <td>-0.217498</td>\n",
       "      <td>-0.051202</td>\n",
       "      <td>0.839231</td>\n",
       "      <td>-0.876282</td>\n",
       "    </tr>\n",
       "    <tr>\n",
       "      <th>2013-01-03</th>\n",
       "      <td>-0.110232</td>\n",
       "      <td>-2.090959</td>\n",
       "      <td>-0.826944</td>\n",
       "      <td>-1.420333</td>\n",
       "    </tr>\n",
       "    <tr>\n",
       "      <th>2013-01-02</th>\n",
       "      <td>-0.777251</td>\n",
       "      <td>-0.616839</td>\n",
       "      <td>-0.003604</td>\n",
       "      <td>-2.266381</td>\n",
       "    </tr>\n",
       "    <tr>\n",
       "      <th>2013-01-01</th>\n",
       "      <td>0.483793</td>\n",
       "      <td>0.238814</td>\n",
       "      <td>0.877214</td>\n",
       "      <td>-1.017814</td>\n",
       "    </tr>\n",
       "  </tbody>\n",
       "</table>\n",
       "</div>"
      ],
      "text/plain": [
       "                   0         1         2         3\n",
       "2013-01-06  0.643671 -0.621141 -0.358609 -0.097968\n",
       "2013-01-05  0.138752 -1.102632  0.349464 -0.450724\n",
       "2013-01-04 -0.217498 -0.051202  0.839231 -0.876282\n",
       "2013-01-03 -0.110232 -2.090959 -0.826944 -1.420333\n",
       "2013-01-02 -0.777251 -0.616839 -0.003604 -2.266381\n",
       "2013-01-01  0.483793  0.238814  0.877214 -1.017814"
      ]
     },
     "execution_count": 25,
     "metadata": {},
     "output_type": "execute_result"
    }
   ],
   "source": [
    "df.sort_index(axis=0, ascending = False)"
   ]
  },
  {
   "cell_type": "code",
   "execution_count": 28,
   "metadata": {},
   "outputs": [
    {
     "data": {
      "text/html": [
       "<div>\n",
       "<style scoped>\n",
       "    .dataframe tbody tr th:only-of-type {\n",
       "        vertical-align: middle;\n",
       "    }\n",
       "\n",
       "    .dataframe tbody tr th {\n",
       "        vertical-align: top;\n",
       "    }\n",
       "\n",
       "    .dataframe thead th {\n",
       "        text-align: right;\n",
       "    }\n",
       "</style>\n",
       "<table border=\"1\" class=\"dataframe\">\n",
       "  <thead>\n",
       "    <tr style=\"text-align: right;\">\n",
       "      <th></th>\n",
       "      <th>0</th>\n",
       "      <th>1</th>\n",
       "      <th>2</th>\n",
       "      <th>3</th>\n",
       "    </tr>\n",
       "  </thead>\n",
       "  <tbody>\n",
       "    <tr>\n",
       "      <th>2013-01-03</th>\n",
       "      <td>-0.110232</td>\n",
       "      <td>-2.090959</td>\n",
       "      <td>-0.826944</td>\n",
       "      <td>-1.420333</td>\n",
       "    </tr>\n",
       "    <tr>\n",
       "      <th>2013-01-05</th>\n",
       "      <td>0.138752</td>\n",
       "      <td>-1.102632</td>\n",
       "      <td>0.349464</td>\n",
       "      <td>-0.450724</td>\n",
       "    </tr>\n",
       "    <tr>\n",
       "      <th>2013-01-06</th>\n",
       "      <td>0.643671</td>\n",
       "      <td>-0.621141</td>\n",
       "      <td>-0.358609</td>\n",
       "      <td>-0.097968</td>\n",
       "    </tr>\n",
       "    <tr>\n",
       "      <th>2013-01-02</th>\n",
       "      <td>-0.777251</td>\n",
       "      <td>-0.616839</td>\n",
       "      <td>-0.003604</td>\n",
       "      <td>-2.266381</td>\n",
       "    </tr>\n",
       "    <tr>\n",
       "      <th>2013-01-04</th>\n",
       "      <td>-0.217498</td>\n",
       "      <td>-0.051202</td>\n",
       "      <td>0.839231</td>\n",
       "      <td>-0.876282</td>\n",
       "    </tr>\n",
       "    <tr>\n",
       "      <th>2013-01-01</th>\n",
       "      <td>0.483793</td>\n",
       "      <td>0.238814</td>\n",
       "      <td>0.877214</td>\n",
       "      <td>-1.017814</td>\n",
       "    </tr>\n",
       "  </tbody>\n",
       "</table>\n",
       "</div>"
      ],
      "text/plain": [
       "                   0         1         2         3\n",
       "2013-01-03 -0.110232 -2.090959 -0.826944 -1.420333\n",
       "2013-01-05  0.138752 -1.102632  0.349464 -0.450724\n",
       "2013-01-06  0.643671 -0.621141 -0.358609 -0.097968\n",
       "2013-01-02 -0.777251 -0.616839 -0.003604 -2.266381\n",
       "2013-01-04 -0.217498 -0.051202  0.839231 -0.876282\n",
       "2013-01-01  0.483793  0.238814  0.877214 -1.017814"
      ]
     },
     "execution_count": 28,
     "metadata": {},
     "output_type": "execute_result"
    }
   ],
   "source": [
    "df.sort_values(1)"
   ]
  },
  {
   "cell_type": "code",
   "execution_count": 32,
   "metadata": {},
   "outputs": [
    {
     "data": {
      "text/html": [
       "<div>\n",
       "<style scoped>\n",
       "    .dataframe tbody tr th:only-of-type {\n",
       "        vertical-align: middle;\n",
       "    }\n",
       "\n",
       "    .dataframe tbody tr th {\n",
       "        vertical-align: top;\n",
       "    }\n",
       "\n",
       "    .dataframe thead th {\n",
       "        text-align: right;\n",
       "    }\n",
       "</style>\n",
       "<table border=\"1\" class=\"dataframe\">\n",
       "  <thead>\n",
       "    <tr style=\"text-align: right;\">\n",
       "      <th></th>\n",
       "      <th>A</th>\n",
       "      <th>B</th>\n",
       "      <th>C</th>\n",
       "      <th>D</th>\n",
       "    </tr>\n",
       "  </thead>\n",
       "  <tbody>\n",
       "    <tr>\n",
       "      <th>2013-01-01</th>\n",
       "      <td>0.483793</td>\n",
       "      <td>0.238814</td>\n",
       "      <td>0.877214</td>\n",
       "      <td>-1.017814</td>\n",
       "    </tr>\n",
       "    <tr>\n",
       "      <th>2013-01-02</th>\n",
       "      <td>-0.777251</td>\n",
       "      <td>-0.616839</td>\n",
       "      <td>-0.003604</td>\n",
       "      <td>-2.266381</td>\n",
       "    </tr>\n",
       "    <tr>\n",
       "      <th>2013-01-03</th>\n",
       "      <td>-0.110232</td>\n",
       "      <td>-2.090959</td>\n",
       "      <td>-0.826944</td>\n",
       "      <td>-1.420333</td>\n",
       "    </tr>\n",
       "    <tr>\n",
       "      <th>2013-01-04</th>\n",
       "      <td>-0.217498</td>\n",
       "      <td>-0.051202</td>\n",
       "      <td>0.839231</td>\n",
       "      <td>-0.876282</td>\n",
       "    </tr>\n",
       "    <tr>\n",
       "      <th>2013-01-05</th>\n",
       "      <td>0.138752</td>\n",
       "      <td>-1.102632</td>\n",
       "      <td>0.349464</td>\n",
       "      <td>-0.450724</td>\n",
       "    </tr>\n",
       "    <tr>\n",
       "      <th>2013-01-06</th>\n",
       "      <td>0.643671</td>\n",
       "      <td>-0.621141</td>\n",
       "      <td>-0.358609</td>\n",
       "      <td>-0.097968</td>\n",
       "    </tr>\n",
       "  </tbody>\n",
       "</table>\n",
       "</div>"
      ],
      "text/plain": [
       "                   A         B         C         D\n",
       "2013-01-01  0.483793  0.238814  0.877214 -1.017814\n",
       "2013-01-02 -0.777251 -0.616839 -0.003604 -2.266381\n",
       "2013-01-03 -0.110232 -2.090959 -0.826944 -1.420333\n",
       "2013-01-04 -0.217498 -0.051202  0.839231 -0.876282\n",
       "2013-01-05  0.138752 -1.102632  0.349464 -0.450724\n",
       "2013-01-06  0.643671 -0.621141 -0.358609 -0.097968"
      ]
     },
     "execution_count": 32,
     "metadata": {},
     "output_type": "execute_result"
    }
   ],
   "source": [
    "df.columns=list('ABCD')\n",
    "df"
   ]
  },
  {
   "cell_type": "code",
   "execution_count": 33,
   "metadata": {},
   "outputs": [
    {
     "data": {
      "text/plain": [
       "2013-01-01    0.483793\n",
       "2013-01-02   -0.777251\n",
       "2013-01-03   -0.110232\n",
       "2013-01-04   -0.217498\n",
       "2013-01-05    0.138752\n",
       "2013-01-06    0.643671\n",
       "Freq: D, Name: A, dtype: float64"
      ]
     },
     "execution_count": 33,
     "metadata": {},
     "output_type": "execute_result"
    }
   ],
   "source": [
    "df['A']"
   ]
  },
  {
   "cell_type": "code",
   "execution_count": 35,
   "metadata": {},
   "outputs": [
    {
     "data": {
      "text/html": [
       "<div>\n",
       "<style scoped>\n",
       "    .dataframe tbody tr th:only-of-type {\n",
       "        vertical-align: middle;\n",
       "    }\n",
       "\n",
       "    .dataframe tbody tr th {\n",
       "        vertical-align: top;\n",
       "    }\n",
       "\n",
       "    .dataframe thead th {\n",
       "        text-align: right;\n",
       "    }\n",
       "</style>\n",
       "<table border=\"1\" class=\"dataframe\">\n",
       "  <thead>\n",
       "    <tr style=\"text-align: right;\">\n",
       "      <th></th>\n",
       "      <th>A</th>\n",
       "      <th>B</th>\n",
       "      <th>C</th>\n",
       "      <th>D</th>\n",
       "    </tr>\n",
       "  </thead>\n",
       "  <tbody>\n",
       "    <tr>\n",
       "      <th>2013-01-01</th>\n",
       "      <td>0.483793</td>\n",
       "      <td>0.238814</td>\n",
       "      <td>0.877214</td>\n",
       "      <td>-1.017814</td>\n",
       "    </tr>\n",
       "    <tr>\n",
       "      <th>2013-01-02</th>\n",
       "      <td>-0.777251</td>\n",
       "      <td>-0.616839</td>\n",
       "      <td>-0.003604</td>\n",
       "      <td>-2.266381</td>\n",
       "    </tr>\n",
       "    <tr>\n",
       "      <th>2013-01-03</th>\n",
       "      <td>-0.110232</td>\n",
       "      <td>-2.090959</td>\n",
       "      <td>-0.826944</td>\n",
       "      <td>-1.420333</td>\n",
       "    </tr>\n",
       "  </tbody>\n",
       "</table>\n",
       "</div>"
      ],
      "text/plain": [
       "                   A         B         C         D\n",
       "2013-01-01  0.483793  0.238814  0.877214 -1.017814\n",
       "2013-01-02 -0.777251 -0.616839 -0.003604 -2.266381\n",
       "2013-01-03 -0.110232 -2.090959 -0.826944 -1.420333"
      ]
     },
     "execution_count": 35,
     "metadata": {},
     "output_type": "execute_result"
    }
   ],
   "source": [
    "df[0:3]"
   ]
  },
  {
   "cell_type": "code",
   "execution_count": 36,
   "metadata": {},
   "outputs": [
    {
     "data": {
      "text/html": [
       "<div>\n",
       "<style scoped>\n",
       "    .dataframe tbody tr th:only-of-type {\n",
       "        vertical-align: middle;\n",
       "    }\n",
       "\n",
       "    .dataframe tbody tr th {\n",
       "        vertical-align: top;\n",
       "    }\n",
       "\n",
       "    .dataframe thead th {\n",
       "        text-align: right;\n",
       "    }\n",
       "</style>\n",
       "<table border=\"1\" class=\"dataframe\">\n",
       "  <thead>\n",
       "    <tr style=\"text-align: right;\">\n",
       "      <th></th>\n",
       "      <th>A</th>\n",
       "      <th>B</th>\n",
       "      <th>C</th>\n",
       "      <th>D</th>\n",
       "    </tr>\n",
       "  </thead>\n",
       "  <tbody>\n",
       "    <tr>\n",
       "      <th>2013-01-02</th>\n",
       "      <td>-0.777251</td>\n",
       "      <td>-0.616839</td>\n",
       "      <td>-0.003604</td>\n",
       "      <td>-2.266381</td>\n",
       "    </tr>\n",
       "    <tr>\n",
       "      <th>2013-01-03</th>\n",
       "      <td>-0.110232</td>\n",
       "      <td>-2.090959</td>\n",
       "      <td>-0.826944</td>\n",
       "      <td>-1.420333</td>\n",
       "    </tr>\n",
       "    <tr>\n",
       "      <th>2013-01-04</th>\n",
       "      <td>-0.217498</td>\n",
       "      <td>-0.051202</td>\n",
       "      <td>0.839231</td>\n",
       "      <td>-0.876282</td>\n",
       "    </tr>\n",
       "  </tbody>\n",
       "</table>\n",
       "</div>"
      ],
      "text/plain": [
       "                   A         B         C         D\n",
       "2013-01-02 -0.777251 -0.616839 -0.003604 -2.266381\n",
       "2013-01-03 -0.110232 -2.090959 -0.826944 -1.420333\n",
       "2013-01-04 -0.217498 -0.051202  0.839231 -0.876282"
      ]
     },
     "execution_count": 36,
     "metadata": {},
     "output_type": "execute_result"
    }
   ],
   "source": [
    "df['20130102':'20130104']"
   ]
  },
  {
   "cell_type": "code",
   "execution_count": 38,
   "metadata": {},
   "outputs": [
    {
     "data": {
      "text/plain": [
       "A    0.483793\n",
       "B    0.238814\n",
       "C    0.877214\n",
       "D   -1.017814\n",
       "Name: 2013-01-01 00:00:00, dtype: float64"
      ]
     },
     "execution_count": 38,
     "metadata": {},
     "output_type": "execute_result"
    }
   ],
   "source": [
    "df.loc[dates[0]]"
   ]
  },
  {
   "cell_type": "code",
   "execution_count": 39,
   "metadata": {},
   "outputs": [
    {
     "data": {
      "text/html": [
       "<div>\n",
       "<style scoped>\n",
       "    .dataframe tbody tr th:only-of-type {\n",
       "        vertical-align: middle;\n",
       "    }\n",
       "\n",
       "    .dataframe tbody tr th {\n",
       "        vertical-align: top;\n",
       "    }\n",
       "\n",
       "    .dataframe thead th {\n",
       "        text-align: right;\n",
       "    }\n",
       "</style>\n",
       "<table border=\"1\" class=\"dataframe\">\n",
       "  <thead>\n",
       "    <tr style=\"text-align: right;\">\n",
       "      <th></th>\n",
       "      <th>B</th>\n",
       "      <th>C</th>\n",
       "    </tr>\n",
       "  </thead>\n",
       "  <tbody>\n",
       "    <tr>\n",
       "      <th>2013-01-01</th>\n",
       "      <td>0.238814</td>\n",
       "      <td>0.877214</td>\n",
       "    </tr>\n",
       "    <tr>\n",
       "      <th>2013-01-02</th>\n",
       "      <td>-0.616839</td>\n",
       "      <td>-0.003604</td>\n",
       "    </tr>\n",
       "    <tr>\n",
       "      <th>2013-01-03</th>\n",
       "      <td>-2.090959</td>\n",
       "      <td>-0.826944</td>\n",
       "    </tr>\n",
       "    <tr>\n",
       "      <th>2013-01-04</th>\n",
       "      <td>-0.051202</td>\n",
       "      <td>0.839231</td>\n",
       "    </tr>\n",
       "    <tr>\n",
       "      <th>2013-01-05</th>\n",
       "      <td>-1.102632</td>\n",
       "      <td>0.349464</td>\n",
       "    </tr>\n",
       "    <tr>\n",
       "      <th>2013-01-06</th>\n",
       "      <td>-0.621141</td>\n",
       "      <td>-0.358609</td>\n",
       "    </tr>\n",
       "  </tbody>\n",
       "</table>\n",
       "</div>"
      ],
      "text/plain": [
       "                   B         C\n",
       "2013-01-01  0.238814  0.877214\n",
       "2013-01-02 -0.616839 -0.003604\n",
       "2013-01-03 -2.090959 -0.826944\n",
       "2013-01-04 -0.051202  0.839231\n",
       "2013-01-05 -1.102632  0.349464\n",
       "2013-01-06 -0.621141 -0.358609"
      ]
     },
     "execution_count": 39,
     "metadata": {},
     "output_type": "execute_result"
    }
   ],
   "source": [
    "df.loc[:,['B','C']]"
   ]
  },
  {
   "cell_type": "code",
   "execution_count": 43,
   "metadata": {},
   "outputs": [
    {
     "data": {
      "text/html": [
       "<div>\n",
       "<style scoped>\n",
       "    .dataframe tbody tr th:only-of-type {\n",
       "        vertical-align: middle;\n",
       "    }\n",
       "\n",
       "    .dataframe tbody tr th {\n",
       "        vertical-align: top;\n",
       "    }\n",
       "\n",
       "    .dataframe thead th {\n",
       "        text-align: right;\n",
       "    }\n",
       "</style>\n",
       "<table border=\"1\" class=\"dataframe\">\n",
       "  <thead>\n",
       "    <tr style=\"text-align: right;\">\n",
       "      <th></th>\n",
       "      <th>B</th>\n",
       "      <th>C</th>\n",
       "    </tr>\n",
       "  </thead>\n",
       "  <tbody>\n",
       "    <tr>\n",
       "      <th>2013-01-01</th>\n",
       "      <td>0.238814</td>\n",
       "      <td>0.877214</td>\n",
       "    </tr>\n",
       "    <tr>\n",
       "      <th>2013-01-02</th>\n",
       "      <td>-0.616839</td>\n",
       "      <td>-0.003604</td>\n",
       "    </tr>\n",
       "  </tbody>\n",
       "</table>\n",
       "</div>"
      ],
      "text/plain": [
       "                   B         C\n",
       "2013-01-01  0.238814  0.877214\n",
       "2013-01-02 -0.616839 -0.003604"
      ]
     },
     "execution_count": 43,
     "metadata": {},
     "output_type": "execute_result"
    }
   ],
   "source": [
    "df.iloc[0:2,-3:-1]"
   ]
  },
  {
   "cell_type": "code",
   "execution_count": 47,
   "metadata": {},
   "outputs": [
    {
     "data": {
      "text/plain": [
       "Timestamp('2013-01-01 00:00:00', freq='D')"
      ]
     },
     "execution_count": 47,
     "metadata": {},
     "output_type": "execute_result"
    }
   ],
   "source": [
    "dates[0]"
   ]
  },
  {
   "cell_type": "code",
   "execution_count": 48,
   "metadata": {},
   "outputs": [
    {
     "data": {
      "text/plain": [
       "A   -0.217498\n",
       "B   -0.051202\n",
       "C    0.839231\n",
       "D   -0.876282\n",
       "Name: 2013-01-04 00:00:00, dtype: float64"
      ]
     },
     "execution_count": 48,
     "metadata": {},
     "output_type": "execute_result"
    }
   ],
   "source": [
    "df.iloc[3]"
   ]
  },
  {
   "cell_type": "code",
   "execution_count": 49,
   "metadata": {},
   "outputs": [
    {
     "data": {
      "text/html": [
       "<div>\n",
       "<style scoped>\n",
       "    .dataframe tbody tr th:only-of-type {\n",
       "        vertical-align: middle;\n",
       "    }\n",
       "\n",
       "    .dataframe tbody tr th {\n",
       "        vertical-align: top;\n",
       "    }\n",
       "\n",
       "    .dataframe thead th {\n",
       "        text-align: right;\n",
       "    }\n",
       "</style>\n",
       "<table border=\"1\" class=\"dataframe\">\n",
       "  <thead>\n",
       "    <tr style=\"text-align: right;\">\n",
       "      <th></th>\n",
       "      <th>A</th>\n",
       "      <th>B</th>\n",
       "      <th>C</th>\n",
       "      <th>D</th>\n",
       "    </tr>\n",
       "  </thead>\n",
       "  <tbody>\n",
       "    <tr>\n",
       "      <th>2013-01-01</th>\n",
       "      <td>0.483793</td>\n",
       "      <td>0.238814</td>\n",
       "      <td>0.877214</td>\n",
       "      <td>-1.017814</td>\n",
       "    </tr>\n",
       "    <tr>\n",
       "      <th>2013-01-02</th>\n",
       "      <td>-0.777251</td>\n",
       "      <td>-0.616839</td>\n",
       "      <td>-0.003604</td>\n",
       "      <td>-2.266381</td>\n",
       "    </tr>\n",
       "    <tr>\n",
       "      <th>2013-01-03</th>\n",
       "      <td>-0.110232</td>\n",
       "      <td>-2.090959</td>\n",
       "      <td>-0.826944</td>\n",
       "      <td>-1.420333</td>\n",
       "    </tr>\n",
       "    <tr>\n",
       "      <th>2013-01-04</th>\n",
       "      <td>-0.217498</td>\n",
       "      <td>-0.051202</td>\n",
       "      <td>0.839231</td>\n",
       "      <td>-0.876282</td>\n",
       "    </tr>\n",
       "    <tr>\n",
       "      <th>2013-01-05</th>\n",
       "      <td>0.138752</td>\n",
       "      <td>-1.102632</td>\n",
       "      <td>0.349464</td>\n",
       "      <td>-0.450724</td>\n",
       "    </tr>\n",
       "    <tr>\n",
       "      <th>2013-01-06</th>\n",
       "      <td>0.643671</td>\n",
       "      <td>-0.621141</td>\n",
       "      <td>-0.358609</td>\n",
       "      <td>-0.097968</td>\n",
       "    </tr>\n",
       "  </tbody>\n",
       "</table>\n",
       "</div>"
      ],
      "text/plain": [
       "                   A         B         C         D\n",
       "2013-01-01  0.483793  0.238814  0.877214 -1.017814\n",
       "2013-01-02 -0.777251 -0.616839 -0.003604 -2.266381\n",
       "2013-01-03 -0.110232 -2.090959 -0.826944 -1.420333\n",
       "2013-01-04 -0.217498 -0.051202  0.839231 -0.876282\n",
       "2013-01-05  0.138752 -1.102632  0.349464 -0.450724\n",
       "2013-01-06  0.643671 -0.621141 -0.358609 -0.097968"
      ]
     },
     "execution_count": 49,
     "metadata": {},
     "output_type": "execute_result"
    }
   ],
   "source": [
    "df"
   ]
  },
  {
   "cell_type": "code",
   "execution_count": 50,
   "metadata": {},
   "outputs": [
    {
     "data": {
      "text/html": [
       "<div>\n",
       "<style scoped>\n",
       "    .dataframe tbody tr th:only-of-type {\n",
       "        vertical-align: middle;\n",
       "    }\n",
       "\n",
       "    .dataframe tbody tr th {\n",
       "        vertical-align: top;\n",
       "    }\n",
       "\n",
       "    .dataframe thead th {\n",
       "        text-align: right;\n",
       "    }\n",
       "</style>\n",
       "<table border=\"1\" class=\"dataframe\">\n",
       "  <thead>\n",
       "    <tr style=\"text-align: right;\">\n",
       "      <th></th>\n",
       "      <th>A</th>\n",
       "      <th>B</th>\n",
       "      <th>C</th>\n",
       "      <th>D</th>\n",
       "    </tr>\n",
       "  </thead>\n",
       "  <tbody>\n",
       "    <tr>\n",
       "      <th>2013-01-02</th>\n",
       "      <td>-0.777251</td>\n",
       "      <td>-0.616839</td>\n",
       "      <td>-0.003604</td>\n",
       "      <td>-2.266381</td>\n",
       "    </tr>\n",
       "    <tr>\n",
       "      <th>2013-01-03</th>\n",
       "      <td>-0.110232</td>\n",
       "      <td>-2.090959</td>\n",
       "      <td>-0.826944</td>\n",
       "      <td>-1.420333</td>\n",
       "    </tr>\n",
       "    <tr>\n",
       "      <th>2013-01-04</th>\n",
       "      <td>-0.217498</td>\n",
       "      <td>-0.051202</td>\n",
       "      <td>0.839231</td>\n",
       "      <td>-0.876282</td>\n",
       "    </tr>\n",
       "  </tbody>\n",
       "</table>\n",
       "</div>"
      ],
      "text/plain": [
       "                   A         B         C         D\n",
       "2013-01-02 -0.777251 -0.616839 -0.003604 -2.266381\n",
       "2013-01-03 -0.110232 -2.090959 -0.826944 -1.420333\n",
       "2013-01-04 -0.217498 -0.051202  0.839231 -0.876282"
      ]
     },
     "execution_count": 50,
     "metadata": {},
     "output_type": "execute_result"
    }
   ],
   "source": [
    "df.iloc[[1,2,3],:]"
   ]
  },
  {
   "cell_type": "code",
   "execution_count": 51,
   "metadata": {},
   "outputs": [
    {
     "data": {
      "text/plain": [
       "2013-01-01     True\n",
       "2013-01-02    False\n",
       "2013-01-03    False\n",
       "2013-01-04    False\n",
       "2013-01-05     True\n",
       "2013-01-06     True\n",
       "Freq: D, Name: A, dtype: bool"
      ]
     },
     "execution_count": 51,
     "metadata": {},
     "output_type": "execute_result"
    }
   ],
   "source": [
    "df.A > 0"
   ]
  },
  {
   "cell_type": "code",
   "execution_count": 55,
   "metadata": {},
   "outputs": [
    {
     "data": {
      "text/html": [
       "<div>\n",
       "<style scoped>\n",
       "    .dataframe tbody tr th:only-of-type {\n",
       "        vertical-align: middle;\n",
       "    }\n",
       "\n",
       "    .dataframe tbody tr th {\n",
       "        vertical-align: top;\n",
       "    }\n",
       "\n",
       "    .dataframe thead th {\n",
       "        text-align: right;\n",
       "    }\n",
       "</style>\n",
       "<table border=\"1\" class=\"dataframe\">\n",
       "  <thead>\n",
       "    <tr style=\"text-align: right;\">\n",
       "      <th></th>\n",
       "      <th>A</th>\n",
       "      <th>B</th>\n",
       "      <th>C</th>\n",
       "      <th>D</th>\n",
       "    </tr>\n",
       "  </thead>\n",
       "  <tbody>\n",
       "    <tr>\n",
       "      <th>2013-01-01</th>\n",
       "      <td>True</td>\n",
       "      <td>True</td>\n",
       "      <td>True</td>\n",
       "      <td>False</td>\n",
       "    </tr>\n",
       "    <tr>\n",
       "      <th>2013-01-02</th>\n",
       "      <td>False</td>\n",
       "      <td>False</td>\n",
       "      <td>False</td>\n",
       "      <td>False</td>\n",
       "    </tr>\n",
       "    <tr>\n",
       "      <th>2013-01-03</th>\n",
       "      <td>False</td>\n",
       "      <td>False</td>\n",
       "      <td>False</td>\n",
       "      <td>False</td>\n",
       "    </tr>\n",
       "    <tr>\n",
       "      <th>2013-01-04</th>\n",
       "      <td>False</td>\n",
       "      <td>False</td>\n",
       "      <td>True</td>\n",
       "      <td>False</td>\n",
       "    </tr>\n",
       "    <tr>\n",
       "      <th>2013-01-05</th>\n",
       "      <td>True</td>\n",
       "      <td>False</td>\n",
       "      <td>True</td>\n",
       "      <td>False</td>\n",
       "    </tr>\n",
       "    <tr>\n",
       "      <th>2013-01-06</th>\n",
       "      <td>True</td>\n",
       "      <td>False</td>\n",
       "      <td>False</td>\n",
       "      <td>False</td>\n",
       "    </tr>\n",
       "  </tbody>\n",
       "</table>\n",
       "</div>"
      ],
      "text/plain": [
       "                A      B      C      D\n",
       "2013-01-01   True   True   True  False\n",
       "2013-01-02  False  False  False  False\n",
       "2013-01-03  False  False  False  False\n",
       "2013-01-04  False  False   True  False\n",
       "2013-01-05   True  False   True  False\n",
       "2013-01-06   True  False  False  False"
      ]
     },
     "execution_count": 55,
     "metadata": {},
     "output_type": "execute_result"
    }
   ],
   "source": [
    "df > 0"
   ]
  },
  {
   "cell_type": "code",
   "execution_count": 56,
   "metadata": {},
   "outputs": [
    {
     "data": {
      "text/plain": [
       "A     True\n",
       "B     True\n",
       "C     True\n",
       "D    False\n",
       "Name: 2013-01-01 00:00:00, dtype: bool"
      ]
     },
     "execution_count": 56,
     "metadata": {},
     "output_type": "execute_result"
    }
   ],
   "source": [
    "df.iloc[0]>0"
   ]
  },
  {
   "cell_type": "code",
   "execution_count": 90,
   "metadata": {},
   "outputs": [
    {
     "data": {
      "text/plain": [
       "A     True\n",
       "B     True\n",
       "C     True\n",
       "D    False\n",
       "Name: 2013-01-01 00:00:00, dtype: bool"
      ]
     },
     "execution_count": 90,
     "metadata": {},
     "output_type": "execute_result"
    }
   ],
   "source": [
    "df.loc['20130101']>0"
   ]
  },
  {
   "cell_type": "code",
   "execution_count": 99,
   "metadata": {},
   "outputs": [
    {
     "data": {
      "text/plain": [
       "A    0.483793\n",
       "B    0.238814\n",
       "C    0.877214\n",
       "Name: 2013-01-01 00:00:00, dtype: float64"
      ]
     },
     "execution_count": 99,
     "metadata": {},
     "output_type": "execute_result"
    }
   ],
   "source": [
    "df.loc[:,df.loc['20130101']>0].loc['20130101']"
   ]
  },
  {
   "cell_type": "code",
   "execution_count": 103,
   "metadata": {},
   "outputs": [
    {
     "data": {
      "text/html": [
       "<div>\n",
       "<style scoped>\n",
       "    .dataframe tbody tr th:only-of-type {\n",
       "        vertical-align: middle;\n",
       "    }\n",
       "\n",
       "    .dataframe tbody tr th {\n",
       "        vertical-align: top;\n",
       "    }\n",
       "\n",
       "    .dataframe thead th {\n",
       "        text-align: right;\n",
       "    }\n",
       "</style>\n",
       "<table border=\"1\" class=\"dataframe\">\n",
       "  <thead>\n",
       "    <tr style=\"text-align: right;\">\n",
       "      <th></th>\n",
       "      <th>A</th>\n",
       "      <th>B</th>\n",
       "      <th>C</th>\n",
       "      <th>D</th>\n",
       "      <th>E</th>\n",
       "    </tr>\n",
       "  </thead>\n",
       "  <tbody>\n",
       "    <tr>\n",
       "      <th>2013-01-01</th>\n",
       "      <td>0.483793</td>\n",
       "      <td>0.238814</td>\n",
       "      <td>0.877214</td>\n",
       "      <td>-1.017814</td>\n",
       "      <td>one</td>\n",
       "    </tr>\n",
       "    <tr>\n",
       "      <th>2013-01-02</th>\n",
       "      <td>-0.777251</td>\n",
       "      <td>-0.616839</td>\n",
       "      <td>-0.003604</td>\n",
       "      <td>-2.266381</td>\n",
       "      <td>one</td>\n",
       "    </tr>\n",
       "    <tr>\n",
       "      <th>2013-01-03</th>\n",
       "      <td>-0.110232</td>\n",
       "      <td>-2.090959</td>\n",
       "      <td>-0.826944</td>\n",
       "      <td>-1.420333</td>\n",
       "      <td>two</td>\n",
       "    </tr>\n",
       "    <tr>\n",
       "      <th>2013-01-04</th>\n",
       "      <td>-0.217498</td>\n",
       "      <td>-0.051202</td>\n",
       "      <td>0.839231</td>\n",
       "      <td>-0.876282</td>\n",
       "      <td>three</td>\n",
       "    </tr>\n",
       "    <tr>\n",
       "      <th>2013-01-05</th>\n",
       "      <td>0.138752</td>\n",
       "      <td>-1.102632</td>\n",
       "      <td>0.349464</td>\n",
       "      <td>-0.450724</td>\n",
       "      <td>five</td>\n",
       "    </tr>\n",
       "    <tr>\n",
       "      <th>2013-01-06</th>\n",
       "      <td>0.643671</td>\n",
       "      <td>-0.621141</td>\n",
       "      <td>-0.358609</td>\n",
       "      <td>-0.097968</td>\n",
       "      <td>eight</td>\n",
       "    </tr>\n",
       "  </tbody>\n",
       "</table>\n",
       "</div>"
      ],
      "text/plain": [
       "                   A         B         C         D      E\n",
       "2013-01-01  0.483793  0.238814  0.877214 -1.017814    one\n",
       "2013-01-02 -0.777251 -0.616839 -0.003604 -2.266381    one\n",
       "2013-01-03 -0.110232 -2.090959 -0.826944 -1.420333    two\n",
       "2013-01-04 -0.217498 -0.051202  0.839231 -0.876282  three\n",
       "2013-01-05  0.138752 -1.102632  0.349464 -0.450724   five\n",
       "2013-01-06  0.643671 -0.621141 -0.358609 -0.097968  eight"
      ]
     },
     "execution_count": 103,
     "metadata": {},
     "output_type": "execute_result"
    }
   ],
   "source": [
    "df2 = df.copy()\n",
    "df2['E'] = ['one','one','two','three','five','eight']\n",
    "df2"
   ]
  },
  {
   "cell_type": "code",
   "execution_count": 107,
   "metadata": {},
   "outputs": [
    {
     "data": {
      "text/html": [
       "<div>\n",
       "<style scoped>\n",
       "    .dataframe tbody tr th:only-of-type {\n",
       "        vertical-align: middle;\n",
       "    }\n",
       "\n",
       "    .dataframe tbody tr th {\n",
       "        vertical-align: top;\n",
       "    }\n",
       "\n",
       "    .dataframe thead th {\n",
       "        text-align: right;\n",
       "    }\n",
       "</style>\n",
       "<table border=\"1\" class=\"dataframe\">\n",
       "  <thead>\n",
       "    <tr style=\"text-align: right;\">\n",
       "      <th></th>\n",
       "      <th>A</th>\n",
       "      <th>B</th>\n",
       "      <th>C</th>\n",
       "      <th>D</th>\n",
       "      <th>E</th>\n",
       "    </tr>\n",
       "  </thead>\n",
       "  <tbody>\n",
       "    <tr>\n",
       "      <th>2013-01-03</th>\n",
       "      <td>-0.110232</td>\n",
       "      <td>-2.090959</td>\n",
       "      <td>-0.826944</td>\n",
       "      <td>-1.420333</td>\n",
       "      <td>two</td>\n",
       "    </tr>\n",
       "  </tbody>\n",
       "</table>\n",
       "</div>"
      ],
      "text/plain": [
       "                   A         B         C         D    E\n",
       "2013-01-03 -0.110232 -2.090959 -0.826944 -1.420333  two"
      ]
     },
     "execution_count": 107,
     "metadata": {},
     "output_type": "execute_result"
    }
   ],
   "source": [
    "df2[df2['E'].isin(['two','four'])]"
   ]
  },
  {
   "cell_type": "code",
   "execution_count": 115,
   "metadata": {},
   "outputs": [
    {
     "data": {
      "text/html": [
       "<div>\n",
       "<style scoped>\n",
       "    .dataframe tbody tr th:only-of-type {\n",
       "        vertical-align: middle;\n",
       "    }\n",
       "\n",
       "    .dataframe tbody tr th {\n",
       "        vertical-align: top;\n",
       "    }\n",
       "\n",
       "    .dataframe thead th {\n",
       "        text-align: right;\n",
       "    }\n",
       "</style>\n",
       "<table border=\"1\" class=\"dataframe\">\n",
       "  <thead>\n",
       "    <tr style=\"text-align: right;\">\n",
       "      <th></th>\n",
       "      <th>A</th>\n",
       "      <th>B</th>\n",
       "      <th>C</th>\n",
       "      <th>D</th>\n",
       "      <th>F</th>\n",
       "    </tr>\n",
       "  </thead>\n",
       "  <tbody>\n",
       "    <tr>\n",
       "      <th>2013-01-01</th>\n",
       "      <td>0.483793</td>\n",
       "      <td>0.238814</td>\n",
       "      <td>0.877214</td>\n",
       "      <td>-1.017814</td>\n",
       "      <td>1</td>\n",
       "    </tr>\n",
       "    <tr>\n",
       "      <th>2013-01-02</th>\n",
       "      <td>-0.777251</td>\n",
       "      <td>-0.616839</td>\n",
       "      <td>-0.003604</td>\n",
       "      <td>-2.266381</td>\n",
       "      <td>2</td>\n",
       "    </tr>\n",
       "    <tr>\n",
       "      <th>2013-01-03</th>\n",
       "      <td>-0.110232</td>\n",
       "      <td>-2.090959</td>\n",
       "      <td>-0.826944</td>\n",
       "      <td>-1.420333</td>\n",
       "      <td>3</td>\n",
       "    </tr>\n",
       "    <tr>\n",
       "      <th>2013-01-04</th>\n",
       "      <td>-0.217498</td>\n",
       "      <td>-0.051202</td>\n",
       "      <td>0.839231</td>\n",
       "      <td>-0.876282</td>\n",
       "      <td>4</td>\n",
       "    </tr>\n",
       "    <tr>\n",
       "      <th>2013-01-05</th>\n",
       "      <td>0.138752</td>\n",
       "      <td>-1.102632</td>\n",
       "      <td>0.349464</td>\n",
       "      <td>-0.450724</td>\n",
       "      <td>5</td>\n",
       "    </tr>\n",
       "    <tr>\n",
       "      <th>2013-01-06</th>\n",
       "      <td>0.643671</td>\n",
       "      <td>-0.621141</td>\n",
       "      <td>-0.358609</td>\n",
       "      <td>-0.097968</td>\n",
       "      <td>6</td>\n",
       "    </tr>\n",
       "  </tbody>\n",
       "</table>\n",
       "</div>"
      ],
      "text/plain": [
       "                   A         B         C         D  F\n",
       "2013-01-01  0.483793  0.238814  0.877214 -1.017814  1\n",
       "2013-01-02 -0.777251 -0.616839 -0.003604 -2.266381  2\n",
       "2013-01-03 -0.110232 -2.090959 -0.826944 -1.420333  3\n",
       "2013-01-04 -0.217498 -0.051202  0.839231 -0.876282  4\n",
       "2013-01-05  0.138752 -1.102632  0.349464 -0.450724  5\n",
       "2013-01-06  0.643671 -0.621141 -0.358609 -0.097968  6"
      ]
     },
     "execution_count": 115,
     "metadata": {},
     "output_type": "execute_result"
    }
   ],
   "source": [
    "s1 =  pd.Series([1,2,3,4,5,6],index=pd.date_range('20130101',periods=6))\n",
    "df['F']=s1\n",
    "df"
   ]
  },
  {
   "cell_type": "code",
   "execution_count": 117,
   "metadata": {},
   "outputs": [
    {
     "data": {
      "text/plain": [
       "0.48379326263073297"
      ]
     },
     "execution_count": 117,
     "metadata": {},
     "output_type": "execute_result"
    }
   ],
   "source": [
    "df.at[dates[0],'A']"
   ]
  },
  {
   "cell_type": "code",
   "execution_count": 118,
   "metadata": {},
   "outputs": [
    {
     "data": {
      "text/plain": [
       "0.48379326263073297"
      ]
     },
     "execution_count": 118,
     "metadata": {},
     "output_type": "execute_result"
    }
   ],
   "source": [
    "df.loc[dates[0],'A']"
   ]
  },
  {
   "cell_type": "code",
   "execution_count": 119,
   "metadata": {},
   "outputs": [
    {
     "data": {
      "text/plain": [
       "0.23881353103585984"
      ]
     },
     "execution_count": 119,
     "metadata": {},
     "output_type": "execute_result"
    }
   ],
   "source": [
    "df.iat[0,1]"
   ]
  },
  {
   "cell_type": "code",
   "execution_count": 120,
   "metadata": {},
   "outputs": [
    {
     "data": {
      "text/plain": [
       "0.23881353103585984"
      ]
     },
     "execution_count": 120,
     "metadata": {},
     "output_type": "execute_result"
    }
   ],
   "source": [
    "df.iloc[0,1]"
   ]
  },
  {
   "cell_type": "code",
   "execution_count": 132,
   "metadata": {},
   "outputs": [
    {
     "data": {
      "text/html": [
       "<div>\n",
       "<style scoped>\n",
       "    .dataframe tbody tr th:only-of-type {\n",
       "        vertical-align: middle;\n",
       "    }\n",
       "\n",
       "    .dataframe tbody tr th {\n",
       "        vertical-align: top;\n",
       "    }\n",
       "\n",
       "    .dataframe thead th {\n",
       "        text-align: right;\n",
       "    }\n",
       "</style>\n",
       "<table border=\"1\" class=\"dataframe\">\n",
       "  <thead>\n",
       "    <tr style=\"text-align: right;\">\n",
       "      <th></th>\n",
       "      <th>A</th>\n",
       "      <th>B</th>\n",
       "      <th>C</th>\n",
       "      <th>D</th>\n",
       "      <th>F</th>\n",
       "      <th>E</th>\n",
       "    </tr>\n",
       "  </thead>\n",
       "  <tbody>\n",
       "    <tr>\n",
       "      <th>2013-01-01 00:00:00</th>\n",
       "      <td>0.483793</td>\n",
       "      <td>0.238814</td>\n",
       "      <td>0.877214</td>\n",
       "      <td>-1.01781</td>\n",
       "      <td>1</td>\n",
       "      <td>two</td>\n",
       "    </tr>\n",
       "    <tr>\n",
       "      <th>2013-01-02 00:00:00</th>\n",
       "      <td>-0.777251</td>\n",
       "      <td>-0.616839</td>\n",
       "      <td>-0.00360435</td>\n",
       "      <td>-2.26638</td>\n",
       "      <td>2</td>\n",
       "      <td>two</td>\n",
       "    </tr>\n",
       "    <tr>\n",
       "      <th>2013-01-03 00:00:00</th>\n",
       "      <td>-0.110232</td>\n",
       "      <td>-2.09096</td>\n",
       "      <td>-0.826944</td>\n",
       "      <td>-1.42033</td>\n",
       "      <td>3</td>\n",
       "      <td>two</td>\n",
       "    </tr>\n",
       "    <tr>\n",
       "      <th>2013-01-04 00:00:00</th>\n",
       "      <td>-0.217498</td>\n",
       "      <td>-0.0512015</td>\n",
       "      <td>0.839231</td>\n",
       "      <td>-0.876282</td>\n",
       "      <td>4</td>\n",
       "      <td>two</td>\n",
       "    </tr>\n",
       "    <tr>\n",
       "      <th>2013-01-05 00:00:00</th>\n",
       "      <td>0.138752</td>\n",
       "      <td>-1.10263</td>\n",
       "      <td>0.349464</td>\n",
       "      <td>-0.450724</td>\n",
       "      <td>5</td>\n",
       "      <td>two</td>\n",
       "    </tr>\n",
       "    <tr>\n",
       "      <th>2013-01-06 00:00:00</th>\n",
       "      <td>0.643671</td>\n",
       "      <td>-0.621141</td>\n",
       "      <td>-0.358609</td>\n",
       "      <td>-0.0979679</td>\n",
       "      <td>6</td>\n",
       "      <td>two</td>\n",
       "    </tr>\n",
       "    <tr>\n",
       "      <th>E</th>\n",
       "      <td>two</td>\n",
       "      <td>two</td>\n",
       "      <td>two</td>\n",
       "      <td>two</td>\n",
       "      <td>two</td>\n",
       "      <td>two</td>\n",
       "    </tr>\n",
       "  </tbody>\n",
       "</table>\n",
       "</div>"
      ],
      "text/plain": [
       "                            A          B           C          D    F    E\n",
       "2013-01-01 00:00:00  0.483793   0.238814    0.877214   -1.01781    1  two\n",
       "2013-01-02 00:00:00 -0.777251  -0.616839 -0.00360435   -2.26638    2  two\n",
       "2013-01-03 00:00:00 -0.110232   -2.09096   -0.826944   -1.42033    3  two\n",
       "2013-01-04 00:00:00 -0.217498 -0.0512015    0.839231  -0.876282    4  two\n",
       "2013-01-05 00:00:00  0.138752   -1.10263    0.349464  -0.450724    5  two\n",
       "2013-01-06 00:00:00  0.643671  -0.621141   -0.358609 -0.0979679    6  two\n",
       "E                         two        two         two        two  two  two"
      ]
     },
     "execution_count": 132,
     "metadata": {},
     "output_type": "execute_result"
    }
   ],
   "source": [
    "df.loc[:,'E'] = np.array([\"two\"] * len(df))\n",
    "df"
   ]
  },
  {
   "cell_type": "code",
   "execution_count": 135,
   "metadata": {},
   "outputs": [
    {
     "data": {
      "text/html": [
       "<div>\n",
       "<style scoped>\n",
       "    .dataframe tbody tr th:only-of-type {\n",
       "        vertical-align: middle;\n",
       "    }\n",
       "\n",
       "    .dataframe tbody tr th {\n",
       "        vertical-align: top;\n",
       "    }\n",
       "\n",
       "    .dataframe thead th {\n",
       "        text-align: right;\n",
       "    }\n",
       "</style>\n",
       "<table border=\"1\" class=\"dataframe\">\n",
       "  <thead>\n",
       "    <tr style=\"text-align: right;\">\n",
       "      <th></th>\n",
       "      <th>A</th>\n",
       "      <th>B</th>\n",
       "      <th>C</th>\n",
       "      <th>D</th>\n",
       "      <th>F</th>\n",
       "      <th>E</th>\n",
       "    </tr>\n",
       "  </thead>\n",
       "  <tbody>\n",
       "    <tr>\n",
       "      <th>2013-01-01 00:00:00</th>\n",
       "      <td>0.483793</td>\n",
       "      <td>0.238814</td>\n",
       "      <td>0.877214</td>\n",
       "      <td>-1.01781</td>\n",
       "      <td>1</td>\n",
       "      <td>two</td>\n",
       "    </tr>\n",
       "    <tr>\n",
       "      <th>2013-01-02 00:00:00</th>\n",
       "      <td>-0.777251</td>\n",
       "      <td>-0.616839</td>\n",
       "      <td>NaN</td>\n",
       "      <td>NaN</td>\n",
       "      <td>2</td>\n",
       "      <td>two</td>\n",
       "    </tr>\n",
       "    <tr>\n",
       "      <th>2013-01-03 00:00:00</th>\n",
       "      <td>-0.110232</td>\n",
       "      <td>-2.09096</td>\n",
       "      <td>-0.826944</td>\n",
       "      <td>-1.42033</td>\n",
       "      <td>3</td>\n",
       "      <td>two</td>\n",
       "    </tr>\n",
       "    <tr>\n",
       "      <th>2013-01-04 00:00:00</th>\n",
       "      <td>-0.217498</td>\n",
       "      <td>-0.0512015</td>\n",
       "      <td>0.839231</td>\n",
       "      <td>-0.876282</td>\n",
       "      <td>4</td>\n",
       "      <td>two</td>\n",
       "    </tr>\n",
       "    <tr>\n",
       "      <th>2013-01-05 00:00:00</th>\n",
       "      <td>0.138752</td>\n",
       "      <td>-1.10263</td>\n",
       "      <td>NaN</td>\n",
       "      <td>NaN</td>\n",
       "      <td>5</td>\n",
       "      <td>two</td>\n",
       "    </tr>\n",
       "    <tr>\n",
       "      <th>2013-01-06 00:00:00</th>\n",
       "      <td>0.643671</td>\n",
       "      <td>-0.621141</td>\n",
       "      <td>-0.358609</td>\n",
       "      <td>-0.0979679</td>\n",
       "      <td>6</td>\n",
       "      <td>two</td>\n",
       "    </tr>\n",
       "    <tr>\n",
       "      <th>E</th>\n",
       "      <td>two</td>\n",
       "      <td>two</td>\n",
       "      <td>two</td>\n",
       "      <td>two</td>\n",
       "      <td>two</td>\n",
       "      <td>two</td>\n",
       "    </tr>\n",
       "  </tbody>\n",
       "</table>\n",
       "</div>"
      ],
      "text/plain": [
       "                            A          B         C          D    F    E\n",
       "2013-01-01 00:00:00  0.483793   0.238814  0.877214   -1.01781    1  two\n",
       "2013-01-02 00:00:00 -0.777251  -0.616839       NaN        NaN    2  two\n",
       "2013-01-03 00:00:00 -0.110232   -2.09096 -0.826944   -1.42033    3  two\n",
       "2013-01-04 00:00:00 -0.217498 -0.0512015  0.839231  -0.876282    4  two\n",
       "2013-01-05 00:00:00  0.138752   -1.10263       NaN        NaN    5  two\n",
       "2013-01-06 00:00:00  0.643671  -0.621141 -0.358609 -0.0979679    6  two\n",
       "E                         two        two       two        two  two  two"
      ]
     },
     "execution_count": 135,
     "metadata": {},
     "output_type": "execute_result"
    }
   ],
   "source": [
    "df.iloc[[1,4],[2,3]] = np.nan\n",
    "df"
   ]
  },
  {
   "cell_type": "code",
   "execution_count": 136,
   "metadata": {},
   "outputs": [
    {
     "data": {
      "text/html": [
       "<div>\n",
       "<style scoped>\n",
       "    .dataframe tbody tr th:only-of-type {\n",
       "        vertical-align: middle;\n",
       "    }\n",
       "\n",
       "    .dataframe tbody tr th {\n",
       "        vertical-align: top;\n",
       "    }\n",
       "\n",
       "    .dataframe thead th {\n",
       "        text-align: right;\n",
       "    }\n",
       "</style>\n",
       "<table border=\"1\" class=\"dataframe\">\n",
       "  <thead>\n",
       "    <tr style=\"text-align: right;\">\n",
       "      <th></th>\n",
       "      <th>A</th>\n",
       "      <th>B</th>\n",
       "      <th>C</th>\n",
       "      <th>D</th>\n",
       "      <th>F</th>\n",
       "      <th>E</th>\n",
       "    </tr>\n",
       "  </thead>\n",
       "  <tbody>\n",
       "    <tr>\n",
       "      <th>2013-01-01 00:00:00</th>\n",
       "      <td>0.483793</td>\n",
       "      <td>0.238814</td>\n",
       "      <td>0.877214</td>\n",
       "      <td>-1.01781</td>\n",
       "      <td>1</td>\n",
       "      <td>two</td>\n",
       "    </tr>\n",
       "    <tr>\n",
       "      <th>2013-01-03 00:00:00</th>\n",
       "      <td>-0.110232</td>\n",
       "      <td>-2.09096</td>\n",
       "      <td>-0.826944</td>\n",
       "      <td>-1.42033</td>\n",
       "      <td>3</td>\n",
       "      <td>two</td>\n",
       "    </tr>\n",
       "    <tr>\n",
       "      <th>2013-01-04 00:00:00</th>\n",
       "      <td>-0.217498</td>\n",
       "      <td>-0.0512015</td>\n",
       "      <td>0.839231</td>\n",
       "      <td>-0.876282</td>\n",
       "      <td>4</td>\n",
       "      <td>two</td>\n",
       "    </tr>\n",
       "    <tr>\n",
       "      <th>2013-01-06 00:00:00</th>\n",
       "      <td>0.643671</td>\n",
       "      <td>-0.621141</td>\n",
       "      <td>-0.358609</td>\n",
       "      <td>-0.0979679</td>\n",
       "      <td>6</td>\n",
       "      <td>two</td>\n",
       "    </tr>\n",
       "    <tr>\n",
       "      <th>E</th>\n",
       "      <td>two</td>\n",
       "      <td>two</td>\n",
       "      <td>two</td>\n",
       "      <td>two</td>\n",
       "      <td>two</td>\n",
       "      <td>two</td>\n",
       "    </tr>\n",
       "  </tbody>\n",
       "</table>\n",
       "</div>"
      ],
      "text/plain": [
       "                            A          B         C          D    F    E\n",
       "2013-01-01 00:00:00  0.483793   0.238814  0.877214   -1.01781    1  two\n",
       "2013-01-03 00:00:00 -0.110232   -2.09096 -0.826944   -1.42033    3  two\n",
       "2013-01-04 00:00:00 -0.217498 -0.0512015  0.839231  -0.876282    4  two\n",
       "2013-01-06 00:00:00  0.643671  -0.621141 -0.358609 -0.0979679    6  two\n",
       "E                         two        two       two        two  two  two"
      ]
     },
     "execution_count": 136,
     "metadata": {},
     "output_type": "execute_result"
    }
   ],
   "source": [
    "df.dropna(how=\"any\")"
   ]
  },
  {
   "cell_type": "code",
   "execution_count": 152,
   "metadata": {},
   "outputs": [
    {
     "data": {
      "text/html": [
       "<div>\n",
       "<style scoped>\n",
       "    .dataframe tbody tr th:only-of-type {\n",
       "        vertical-align: middle;\n",
       "    }\n",
       "\n",
       "    .dataframe tbody tr th {\n",
       "        vertical-align: top;\n",
       "    }\n",
       "\n",
       "    .dataframe thead th {\n",
       "        text-align: right;\n",
       "    }\n",
       "</style>\n",
       "<table border=\"1\" class=\"dataframe\">\n",
       "  <thead>\n",
       "    <tr style=\"text-align: right;\">\n",
       "      <th></th>\n",
       "      <th>A</th>\n",
       "      <th>B</th>\n",
       "      <th>C</th>\n",
       "      <th>D</th>\n",
       "    </tr>\n",
       "  </thead>\n",
       "  <tbody>\n",
       "    <tr>\n",
       "      <th>2013-01-01 00:00:00</th>\n",
       "      <td>0.483793</td>\n",
       "      <td>0.238814</td>\n",
       "      <td>0.877214</td>\n",
       "      <td>-1.01781</td>\n",
       "    </tr>\n",
       "    <tr>\n",
       "      <th>2013-01-02 00:00:00</th>\n",
       "      <td>-0.777251</td>\n",
       "      <td>-0.616839</td>\n",
       "      <td>libre</td>\n",
       "      <td>libre</td>\n",
       "    </tr>\n",
       "    <tr>\n",
       "      <th>2013-01-03 00:00:00</th>\n",
       "      <td>-0.110232</td>\n",
       "      <td>-2.09096</td>\n",
       "      <td>-0.826944</td>\n",
       "      <td>-1.42033</td>\n",
       "    </tr>\n",
       "    <tr>\n",
       "      <th>2013-01-04 00:00:00</th>\n",
       "      <td>-0.217498</td>\n",
       "      <td>-0.0512015</td>\n",
       "      <td>0.839231</td>\n",
       "      <td>-0.876282</td>\n",
       "    </tr>\n",
       "    <tr>\n",
       "      <th>2013-01-05 00:00:00</th>\n",
       "      <td>0.138752</td>\n",
       "      <td>-1.10263</td>\n",
       "      <td>libre</td>\n",
       "      <td>libre</td>\n",
       "    </tr>\n",
       "    <tr>\n",
       "      <th>2013-01-06 00:00:00</th>\n",
       "      <td>0.643671</td>\n",
       "      <td>-0.621141</td>\n",
       "      <td>-0.358609</td>\n",
       "      <td>-0.0979679</td>\n",
       "    </tr>\n",
       "    <tr>\n",
       "      <th>E</th>\n",
       "      <td>two</td>\n",
       "      <td>two</td>\n",
       "      <td>two</td>\n",
       "      <td>two</td>\n",
       "    </tr>\n",
       "  </tbody>\n",
       "</table>\n",
       "</div>"
      ],
      "text/plain": [
       "                            A          B         C          D\n",
       "2013-01-01 00:00:00  0.483793   0.238814  0.877214   -1.01781\n",
       "2013-01-02 00:00:00 -0.777251  -0.616839     libre      libre\n",
       "2013-01-03 00:00:00 -0.110232   -2.09096 -0.826944   -1.42033\n",
       "2013-01-04 00:00:00 -0.217498 -0.0512015  0.839231  -0.876282\n",
       "2013-01-05 00:00:00  0.138752   -1.10263     libre      libre\n",
       "2013-01-06 00:00:00  0.643671  -0.621141 -0.358609 -0.0979679\n",
       "E                         two        two       two        two"
      ]
     },
     "execution_count": 152,
     "metadata": {},
     "output_type": "execute_result"
    }
   ],
   "source": [
    "df.fillna(value='libre')"
   ]
  },
  {
   "cell_type": "code",
   "execution_count": 153,
   "metadata": {},
   "outputs": [
    {
     "data": {
      "text/html": [
       "<div>\n",
       "<style scoped>\n",
       "    .dataframe tbody tr th:only-of-type {\n",
       "        vertical-align: middle;\n",
       "    }\n",
       "\n",
       "    .dataframe tbody tr th {\n",
       "        vertical-align: top;\n",
       "    }\n",
       "\n",
       "    .dataframe thead th {\n",
       "        text-align: right;\n",
       "    }\n",
       "</style>\n",
       "<table border=\"1\" class=\"dataframe\">\n",
       "  <thead>\n",
       "    <tr style=\"text-align: right;\">\n",
       "      <th></th>\n",
       "      <th>A</th>\n",
       "      <th>B</th>\n",
       "      <th>C</th>\n",
       "      <th>D</th>\n",
       "    </tr>\n",
       "  </thead>\n",
       "  <tbody>\n",
       "    <tr>\n",
       "      <th>2013-01-01 00:00:00</th>\n",
       "      <td>0.483793</td>\n",
       "      <td>0.238814</td>\n",
       "      <td>0.877214</td>\n",
       "      <td>-1.01781</td>\n",
       "    </tr>\n",
       "    <tr>\n",
       "      <th>2013-01-02 00:00:00</th>\n",
       "      <td>-0.777251</td>\n",
       "      <td>-0.616839</td>\n",
       "      <td>NaN</td>\n",
       "      <td>NaN</td>\n",
       "    </tr>\n",
       "    <tr>\n",
       "      <th>2013-01-03 00:00:00</th>\n",
       "      <td>-0.110232</td>\n",
       "      <td>-2.09096</td>\n",
       "      <td>-0.826944</td>\n",
       "      <td>-1.42033</td>\n",
       "    </tr>\n",
       "    <tr>\n",
       "      <th>2013-01-04 00:00:00</th>\n",
       "      <td>-0.217498</td>\n",
       "      <td>-0.0512015</td>\n",
       "      <td>0.839231</td>\n",
       "      <td>-0.876282</td>\n",
       "    </tr>\n",
       "    <tr>\n",
       "      <th>2013-01-05 00:00:00</th>\n",
       "      <td>0.138752</td>\n",
       "      <td>-1.10263</td>\n",
       "      <td>NaN</td>\n",
       "      <td>NaN</td>\n",
       "    </tr>\n",
       "    <tr>\n",
       "      <th>2013-01-06 00:00:00</th>\n",
       "      <td>0.643671</td>\n",
       "      <td>-0.621141</td>\n",
       "      <td>-0.358609</td>\n",
       "      <td>-0.0979679</td>\n",
       "    </tr>\n",
       "    <tr>\n",
       "      <th>E</th>\n",
       "      <td>two</td>\n",
       "      <td>two</td>\n",
       "      <td>two</td>\n",
       "      <td>two</td>\n",
       "    </tr>\n",
       "  </tbody>\n",
       "</table>\n",
       "</div>"
      ],
      "text/plain": [
       "                            A          B         C          D\n",
       "2013-01-01 00:00:00  0.483793   0.238814  0.877214   -1.01781\n",
       "2013-01-02 00:00:00 -0.777251  -0.616839       NaN        NaN\n",
       "2013-01-03 00:00:00 -0.110232   -2.09096 -0.826944   -1.42033\n",
       "2013-01-04 00:00:00 -0.217498 -0.0512015  0.839231  -0.876282\n",
       "2013-01-05 00:00:00  0.138752   -1.10263       NaN        NaN\n",
       "2013-01-06 00:00:00  0.643671  -0.621141 -0.358609 -0.0979679\n",
       "E                         two        two       two        two"
      ]
     },
     "execution_count": 153,
     "metadata": {},
     "output_type": "execute_result"
    }
   ],
   "source": [
    "df"
   ]
  },
  {
   "cell_type": "code",
   "execution_count": 157,
   "metadata": {},
   "outputs": [
    {
     "data": {
      "text/html": [
       "<div>\n",
       "<style scoped>\n",
       "    .dataframe tbody tr th:only-of-type {\n",
       "        vertical-align: middle;\n",
       "    }\n",
       "\n",
       "    .dataframe tbody tr th {\n",
       "        vertical-align: top;\n",
       "    }\n",
       "\n",
       "    .dataframe thead th {\n",
       "        text-align: right;\n",
       "    }\n",
       "</style>\n",
       "<table border=\"1\" class=\"dataframe\">\n",
       "  <thead>\n",
       "    <tr style=\"text-align: right;\">\n",
       "      <th></th>\n",
       "      <th>A</th>\n",
       "      <th>B</th>\n",
       "      <th>C</th>\n",
       "      <th>D</th>\n",
       "    </tr>\n",
       "  </thead>\n",
       "  <tbody>\n",
       "    <tr>\n",
       "      <th>2013-01-01 00:00:00</th>\n",
       "      <td>0.483793</td>\n",
       "      <td>0.238814</td>\n",
       "      <td>0.877214</td>\n",
       "      <td>-1.01781</td>\n",
       "    </tr>\n",
       "    <tr>\n",
       "      <th>2013-01-02 00:00:00</th>\n",
       "      <td>-0.777251</td>\n",
       "      <td>-0.616839</td>\n",
       "      <td>NaN</td>\n",
       "      <td>NaN</td>\n",
       "    </tr>\n",
       "    <tr>\n",
       "      <th>2013-01-03 00:00:00</th>\n",
       "      <td>-0.110232</td>\n",
       "      <td>-2.09096</td>\n",
       "      <td>-0.826944</td>\n",
       "      <td>-1.42033</td>\n",
       "    </tr>\n",
       "    <tr>\n",
       "      <th>2013-01-04 00:00:00</th>\n",
       "      <td>-0.217498</td>\n",
       "      <td>-0.0512015</td>\n",
       "      <td>0.839231</td>\n",
       "      <td>-0.876282</td>\n",
       "    </tr>\n",
       "    <tr>\n",
       "      <th>2013-01-05 00:00:00</th>\n",
       "      <td>0.138752</td>\n",
       "      <td>-1.10263</td>\n",
       "      <td>NaN</td>\n",
       "      <td>NaN</td>\n",
       "    </tr>\n",
       "    <tr>\n",
       "      <th>2013-01-06 00:00:00</th>\n",
       "      <td>0.643671</td>\n",
       "      <td>-0.621141</td>\n",
       "      <td>-0.358609</td>\n",
       "      <td>-0.0979679</td>\n",
       "    </tr>\n",
       "  </tbody>\n",
       "</table>\n",
       "</div>"
      ],
      "text/plain": [
       "                            A          B         C          D\n",
       "2013-01-01 00:00:00  0.483793   0.238814  0.877214   -1.01781\n",
       "2013-01-02 00:00:00 -0.777251  -0.616839       NaN        NaN\n",
       "2013-01-03 00:00:00 -0.110232   -2.09096 -0.826944   -1.42033\n",
       "2013-01-04 00:00:00 -0.217498 -0.0512015  0.839231  -0.876282\n",
       "2013-01-05 00:00:00  0.138752   -1.10263       NaN        NaN\n",
       "2013-01-06 00:00:00  0.643671  -0.621141 -0.358609 -0.0979679"
      ]
     },
     "execution_count": 157,
     "metadata": {},
     "output_type": "execute_result"
    }
   ],
   "source": [
    "df.drop(['E'], axis = 0)"
   ]
  },
  {
   "cell_type": "code",
   "execution_count": 167,
   "metadata": {},
   "outputs": [
    {
     "name": "stdout",
     "output_type": "stream",
     "text": [
      "2000-01-01     0.315336\n",
      "2000-01-02     0.389444\n",
      "2000-01-03     2.344610\n",
      "2000-01-04     4.389892\n",
      "2000-01-05     4.308776\n",
      "                ...    \n",
      "2002-09-22    30.802656\n",
      "2002-09-23    30.090774\n",
      "2002-09-24    29.197763\n",
      "2002-09-25    29.972139\n",
      "2002-09-26    28.086803\n",
      "Freq: D, Length: 1000, dtype: float64\n"
     ]
    },
    {
     "data": {
      "text/plain": [
       "<matplotlib.axes._subplots.AxesSubplot at 0x7fab18d17c18>"
      ]
     },
     "execution_count": 167,
     "metadata": {},
     "output_type": "execute_result"
    },
    {
     "data": {
      "image/png": "[encoded data removed]",
      "text/plain": [
       "<Figure size 432x288 with 1 Axes>"
      ]
     },
     "metadata": {
      "needs_background": "light"
     },
     "output_type": "display_data"
    }
   ],
   "source": [
    "ts = pd.Series(np.random.randn(),index=pd.date_range('20000101',periods=1000))\n",
    "ts = ts.cumsum()\n",
    "print(ts)\n",
    "ts.plot()"
   ]
  },
  {
   "cell_type": "code",
   "execution_count": 175,
   "metadata": {},
   "outputs": [
    {
     "data": {
      "text/plain": [
       "<matplotlib.legend.Legend at 0x7fab1858d4e0>"
      ]
     },
     "execution_count": 175,
     "metadata": {},
     "output_type": "execute_result"
    },
    {
     "data": {
      "text/plain": [
       "<Figure size 432x288 with 0 Axes>"
      ]
     },
     "metadata": {},
     "output_type": "display_data"
    },
    {
     "data": {
      "image/png": "[encoded data removed]",
      "text/plain": [
       "<Figure size 432x288 with 1 Axes>"
      ]
     },
     "metadata": {
      "needs_background": "light"
     },
     "output_type": "display_data"
    }
   ],
   "source": [
    "df3 = pd.DataFrame(np.random.randn(1000,4),\n",
    "                  index=pd.date_range('20000101',periods=1000),\n",
    "                  columns = ('A','B','C','D'))\n",
    "df3 = df3.cumsum()\n",
    "plt.figure()\n",
    "df3.plot()\n",
    "plt.legend(loc='best')"
   ]
  },
  {
   "cell_type": "code",
   "execution_count": 16,
   "metadata": {},
   "outputs": [
    {
     "data": {
      "text/plain": [
       "0             Afghanistan\n",
       "7                 Bahrain\n",
       "8              Bangladesh\n",
       "18               Cambodia\n",
       "24                  China\n",
       "55       Hong Kong, China\n",
       "58                  India\n",
       "59              Indonesia\n",
       "60                   Iran\n",
       "61                   Iraq\n",
       "63                 Israel\n",
       "66                  Japan\n",
       "67                 Jordan\n",
       "69       Korea, Dem. Rep.\n",
       "70            Korea, Rep.\n",
       "71                 Kuwait\n",
       "72                Lebanon\n",
       "78               Malaysia\n",
       "83               Mongolia\n",
       "87                Myanmar\n",
       "89                  Nepal\n",
       "96                   Oman\n",
       "97               Pakistan\n",
       "101           Philippines\n",
       "109          Saudi Arabia\n",
       "113             Singapore\n",
       "119             Sri Lanka\n",
       "124                 Syria\n",
       "125                Taiwan\n",
       "127              Thailand\n",
       "137               Vietnam\n",
       "138    West Bank and Gaza\n",
       "139           Yemen, Rep.\n",
       "Name: country, dtype: object"
      ]
     },
     "execution_count": 16,
     "metadata": {},
     "output_type": "execute_result"
    }
   ],
   "source": [
    "df = pd.read_csv('https://gist.githubusercontent.com/chriddyp/5d1ea79569ed194d432e56108a04d188/raw/a9f9e8076b837d541398e999dcbac2b2826a81f8/gdp-life-exp-2007.csv')\n",
    "df[df['continent'] == 'Asia']['country']"
   ]
  },
  {
   "cell_type": "code",
   "execution_count": 4,
   "metadata": {},
   "outputs": [
    {
     "data": {
      "text/plain": [
       "{'1952': '1952',\n",
       " '1957': '1957',\n",
       " '1962': '1962',\n",
       " '1967': '1967',\n",
       " '1972': '1972',\n",
       " '1977': '1977',\n",
       " '1982': '1982',\n",
       " '1987': '1987',\n",
       " '1992': '1992',\n",
       " '1997': '1997',\n",
       " '2002': '2002',\n",
       " '2007': '2007'}"
      ]
     },
     "execution_count": 4,
     "metadata": {},
     "output_type": "execute_result"
    }
   ],
   "source": [
    "df = pd.read_csv('https://raw.githubusercontent.com/plotly/datasets/master/gapminderDataFiveYear.csv')\n",
    "{str(year):str(year) for year in df['year'].unique()}"
   ]
  },
  {
   "cell_type": "code",
   "execution_count": 6,
   "metadata": {},
   "outputs": [
    {
     "data": {
      "text/html": [
       "<div>\n",
       "<style scoped>\n",
       "    .dataframe tbody tr th:only-of-type {\n",
       "        vertical-align: middle;\n",
       "    }\n",
       "\n",
       "    .dataframe tbody tr th {\n",
       "        vertical-align: top;\n",
       "    }\n",
       "\n",
       "    .dataframe thead th {\n",
       "        text-align: right;\n",
       "    }\n",
       "</style>\n",
       "<table border=\"1\" class=\"dataframe\">\n",
       "  <thead>\n",
       "    <tr style=\"text-align: right;\">\n",
       "      <th></th>\n",
       "      <th>country</th>\n",
       "      <th>year</th>\n",
       "      <th>pop</th>\n",
       "      <th>continent</th>\n",
       "      <th>lifeExp</th>\n",
       "      <th>gdpPercap</th>\n",
       "    </tr>\n",
       "  </thead>\n",
       "  <tbody>\n",
       "    <tr>\n",
       "      <th>11</th>\n",
       "      <td>Afghanistan</td>\n",
       "      <td>2007</td>\n",
       "      <td>31889923.0</td>\n",
       "      <td>Asia</td>\n",
       "      <td>43.828</td>\n",
       "      <td>974.580338</td>\n",
       "    </tr>\n",
       "    <tr>\n",
       "      <th>23</th>\n",
       "      <td>Albania</td>\n",
       "      <td>2007</td>\n",
       "      <td>3600523.0</td>\n",
       "      <td>Europe</td>\n",
       "      <td>76.423</td>\n",
       "      <td>5937.029526</td>\n",
       "    </tr>\n",
       "    <tr>\n",
       "      <th>35</th>\n",
       "      <td>Algeria</td>\n",
       "      <td>2007</td>\n",
       "      <td>33333216.0</td>\n",
       "      <td>Africa</td>\n",
       "      <td>72.301</td>\n",
       "      <td>6223.367465</td>\n",
       "    </tr>\n",
       "    <tr>\n",
       "      <th>47</th>\n",
       "      <td>Angola</td>\n",
       "      <td>2007</td>\n",
       "      <td>12420476.0</td>\n",
       "      <td>Africa</td>\n",
       "      <td>42.731</td>\n",
       "      <td>4797.231267</td>\n",
       "    </tr>\n",
       "    <tr>\n",
       "      <th>59</th>\n",
       "      <td>Argentina</td>\n",
       "      <td>2007</td>\n",
       "      <td>40301927.0</td>\n",
       "      <td>Americas</td>\n",
       "      <td>75.320</td>\n",
       "      <td>12779.379640</td>\n",
       "    </tr>\n",
       "    <tr>\n",
       "      <th>...</th>\n",
       "      <td>...</td>\n",
       "      <td>...</td>\n",
       "      <td>...</td>\n",
       "      <td>...</td>\n",
       "      <td>...</td>\n",
       "      <td>...</td>\n",
       "    </tr>\n",
       "    <tr>\n",
       "      <th>1655</th>\n",
       "      <td>Vietnam</td>\n",
       "      <td>2007</td>\n",
       "      <td>85262356.0</td>\n",
       "      <td>Asia</td>\n",
       "      <td>74.249</td>\n",
       "      <td>2441.576404</td>\n",
       "    </tr>\n",
       "    <tr>\n",
       "      <th>1667</th>\n",
       "      <td>West Bank and Gaza</td>\n",
       "      <td>2007</td>\n",
       "      <td>4018332.0</td>\n",
       "      <td>Asia</td>\n",
       "      <td>73.422</td>\n",
       "      <td>3025.349798</td>\n",
       "    </tr>\n",
       "    <tr>\n",
       "      <th>1679</th>\n",
       "      <td>Yemen, Rep.</td>\n",
       "      <td>2007</td>\n",
       "      <td>22211743.0</td>\n",
       "      <td>Asia</td>\n",
       "      <td>62.698</td>\n",
       "      <td>2280.769906</td>\n",
       "    </tr>\n",
       "    <tr>\n",
       "      <th>1691</th>\n",
       "      <td>Zambia</td>\n",
       "      <td>2007</td>\n",
       "      <td>11746035.0</td>\n",
       "      <td>Africa</td>\n",
       "      <td>42.384</td>\n",
       "      <td>1271.211593</td>\n",
       "    </tr>\n",
       "    <tr>\n",
       "      <th>1703</th>\n",
       "      <td>Zimbabwe</td>\n",
       "      <td>2007</td>\n",
       "      <td>12311143.0</td>\n",
       "      <td>Africa</td>\n",
       "      <td>43.487</td>\n",
       "      <td>469.709298</td>\n",
       "    </tr>\n",
       "  </tbody>\n",
       "</table>\n",
       "<p>142 rows × 6 columns</p>\n",
       "</div>"
      ],
      "text/plain": [
       "                 country  year         pop continent  lifeExp     gdpPercap\n",
       "11           Afghanistan  2007  31889923.0      Asia   43.828    974.580338\n",
       "23               Albania  2007   3600523.0    Europe   76.423   5937.029526\n",
       "35               Algeria  2007  33333216.0    Africa   72.301   6223.367465\n",
       "47                Angola  2007  12420476.0    Africa   42.731   4797.231267\n",
       "59             Argentina  2007  40301927.0  Americas   75.320  12779.379640\n",
       "...                  ...   ...         ...       ...      ...           ...\n",
       "1655             Vietnam  2007  85262356.0      Asia   74.249   2441.576404\n",
       "1667  West Bank and Gaza  2007   4018332.0      Asia   73.422   3025.349798\n",
       "1679         Yemen, Rep.  2007  22211743.0      Asia   62.698   2280.769906\n",
       "1691              Zambia  2007  11746035.0    Africa   42.384   1271.211593\n",
       "1703            Zimbabwe  2007  12311143.0    Africa   43.487    469.709298\n",
       "\n",
       "[142 rows x 6 columns]"
      ]
     },
     "execution_count": 6,
     "metadata": {},
     "output_type": "execute_result"
    }
   ],
   "source": [
    "df[df.year==2007]"
   ]
  },
  {
   "cell_type": "code",
   "execution_count": 7,
   "metadata": {},
   "outputs": [
    {
     "name": "stdout",
     "output_type": "stream",
     "text": [
      "  Country Name                                     Indicator Name  Year  \\\n",
      "0   Arab World                Agriculture, value added (% of GDP)  1962   \n",
      "1   Arab World             CO2 emissions (metric tons per capita)  1962   \n",
      "2   Arab World  Domestic credit provided by financial sector (...  1962   \n",
      "3   Arab World        Electric power consumption (kWh per capita)  1962   \n",
      "4   Arab World       Energy use (kg of oil equivalent per capita)  1962   \n",
      "\n",
      "       Value  \n",
      "0        NaN  \n",
      "1   0.760996  \n",
      "2  18.168690  \n",
      "3        NaN  \n",
      "4        NaN  \n"
     ]
    }
   ],
   "source": [
    "df = pd.read_csv('https://plotly.github.io/datasets/country_indicators.csv')\n",
    "print(df.head())"
   ]
  },
  {
   "cell_type": "code",
   "execution_count": 36,
   "metadata": {},
   "outputs": [
    {
     "data": {
      "text/plain": [
       "array(['Agriculture, value added (% of GDP)',\n",
       "       'CO2 emissions (metric tons per capita)',\n",
       "       'Domestic credit provided by financial sector (% of GDP)',\n",
       "       'Electric power consumption (kWh per capita)',\n",
       "       'Energy use (kg of oil equivalent per capita)',\n",
       "       'Exports of goods and services (% of GDP)',\n",
       "       'Fertility rate, total (births per woman)',\n",
       "       'GDP growth (annual %)',\n",
       "       'Imports of goods and services (% of GDP)',\n",
       "       'Industry, value added (% of GDP)',\n",
       "       'Inflation, GDP deflator (annual %)',\n",
       "       'Life expectancy at birth, total (years)',\n",
       "       'Population density (people per sq. km of land area)',\n",
       "       'Services, etc., value added (% of GDP)'], dtype=object)"
      ]
     },
     "execution_count": 36,
     "metadata": {},
     "output_type": "execute_result"
    }
   ],
   "source": [
    "df.loc[df['Country Name']=='Virgin Islands','Indicator Name'].unique()"
   ]
  },
  {
   "cell_type": "code",
   "execution_count": 39,
   "metadata": {},
   "outputs": [
    {
     "data": {
      "text/plain": [
       "[{'label': 'America', 'value': 'America'},\n",
       " {'label': 'Canada', 'value': 'Canada'}]"
      ]
     },
     "execution_count": 39,
     "metadata": {},
     "output_type": "execute_result"
    }
   ],
   "source": [
    "all_options = {\n",
    "    'America': ['New York City', 'San Francisco', 'Cincinnati'],\n",
    "    'Canada': [u'Montréal', 'Toronto', 'Ottawa']\n",
    "}\n",
    "[{'label': k, 'value': k} for k in all_options.keys()]"
   ]
  },
  {
   "cell_type": "code",
   "execution_count": 40,
   "metadata": {},
   "outputs": [
    {
     "data": {
      "text/plain": [
       "[{'label': 'New York City', 'value': 'New York City'},\n",
       " {'label': 'San Francisco', 'value': 'San Francisco'},\n",
       " {'label': 'Cincinnati', 'value': 'Cincinnati'}]"
      ]
     },
     "execution_count": 40,
     "metadata": {},
     "output_type": "execute_result"
    }
   ],
   "source": [
    "selected_country = 'America'\n",
    "[{'label': i, 'value': i} for i in all_options[selected_country]]"
   ]
  },
  {
   "cell_type": "code",
   "execution_count": 48,
   "metadata": {},
   "outputs": [
    {
     "ename": "AttributeError",
     "evalue": "module 'numpy' has no attribute 'na'",
     "output_type": "error",
     "traceback": [
      "\u001b[0;31m---------------------------------------------------------------------------\u001b[0m",
      "\u001b[0;31mAttributeError\u001b[0m                            Traceback (most recent call last)",
      "\u001b[0;32m<ipython-input-48-0fbe0d2c04e0>\u001b[0m in \u001b[0;36m<module>\u001b[0;34m\u001b[0m\n\u001b[1;32m      1\u001b[0m \u001b[0mdf\u001b[0m \u001b[0;34m=\u001b[0m \u001b[0mpd\u001b[0m\u001b[0;34m.\u001b[0m\u001b[0mread_html\u001b[0m\u001b[0;34m(\u001b[0m\u001b[0;34m'https://www.irs.gov/newsroom/filing-season-statistics-for-week-ending-november-22-2019'\u001b[0m\u001b[0;34m)\u001b[0m\u001b[0;34m[\u001b[0m\u001b[0;36m0\u001b[0m\u001b[0;34m]\u001b[0m\u001b[0;34m\u001b[0m\u001b[0;34m\u001b[0m\u001b[0m\n\u001b[1;32m      2\u001b[0m \u001b[0mdf\u001b[0m \u001b[0;34m=\u001b[0m \u001b[0mdf\u001b[0m\u001b[0;34m.\u001b[0m\u001b[0mdropna\u001b[0m\u001b[0;34m(\u001b[0m\u001b[0maxis\u001b[0m\u001b[0;34m=\u001b[0m\u001b[0;36m0\u001b[0m\u001b[0;34m,\u001b[0m \u001b[0mhow\u001b[0m \u001b[0;34m=\u001b[0m \u001b[0;34m'all'\u001b[0m\u001b[0;34m)\u001b[0m\u001b[0;34m\u001b[0m\u001b[0;34m\u001b[0m\u001b[0m\n\u001b[0;32m----> 3\u001b[0;31m \u001b[0mnp\u001b[0m\u001b[0;34m.\u001b[0m\u001b[0mna\u001b[0m\u001b[0;34m(\u001b[0m\u001b[0;34m)\u001b[0m\u001b[0;34m\u001b[0m\u001b[0;34m\u001b[0m\u001b[0m\n\u001b[0m\u001b[1;32m      4\u001b[0m \u001b[0;31m#df.loc[:,'2018'].isna()\u001b[0m\u001b[0;34m\u001b[0m\u001b[0;34m\u001b[0m\u001b[0;34m\u001b[0m\u001b[0m\n",
      "\u001b[0;31mAttributeError\u001b[0m: module 'numpy' has no attribute 'na'"
     ]
    }
   ],
   "source": [
    "df = pd.read_html('https://www.irs.gov/newsroom/filing-season-statistics-for-week-ending-november-22-2019')[0]\n",
    "df = df.dropna(axis=0, how = 'all')\n",
    "np.na()\n",
    "#df.loc[:,'2018'].isna()"
   ]
  },
  {
   "cell_type": "code",
   "execution_count": 35,
   "metadata": {},
   "outputs": [
    {
     "data": {
      "text/html": [
       "<div>\n",
       "<style scoped>\n",
       "    .dataframe tbody tr th:only-of-type {\n",
       "        vertical-align: middle;\n",
       "    }\n",
       "\n",
       "    .dataframe tbody tr th {\n",
       "        vertical-align: top;\n",
       "    }\n",
       "\n",
       "    .dataframe thead th {\n",
       "        text-align: right;\n",
       "    }\n",
       "</style>\n",
       "<table border=\"1\" class=\"dataframe\">\n",
       "  <thead>\n",
       "    <tr style=\"text-align: right;\">\n",
       "      <th></th>\n",
       "      <th>Individual Income Tax Returns:</th>\n",
       "      <th>2018</th>\n",
       "      <th>2018.1</th>\n",
       "      <th>2019</th>\n",
       "      <th>2019.1</th>\n",
       "      <th>% Change</th>\n",
       "    </tr>\n",
       "  </thead>\n",
       "  <tbody>\n",
       "    <tr>\n",
       "      <th>0</th>\n",
       "      <td>Total Returns Received</td>\n",
       "      <td>154444000</td>\n",
       "      <td>154444000</td>\n",
       "      <td>155402000</td>\n",
       "      <td>155402000</td>\n",
       "      <td>0.6</td>\n",
       "    </tr>\n",
       "    <tr>\n",
       "      <th>1</th>\n",
       "      <td>Total Returns Processed</td>\n",
       "      <td>154058000</td>\n",
       "      <td>154058000</td>\n",
       "      <td>155096000</td>\n",
       "      <td>155096000</td>\n",
       "      <td>0.7</td>\n",
       "    </tr>\n",
       "    <tr>\n",
       "      <th>3</th>\n",
       "      <td>E-filing Receipts:</td>\n",
       "      <td>NaN</td>\n",
       "      <td>NaN</td>\n",
       "      <td>NaN</td>\n",
       "      <td>NaN</td>\n",
       "      <td>NaN</td>\n",
       "    </tr>\n",
       "    <tr>\n",
       "      <th>4</th>\n",
       "      <td>TOTAL</td>\n",
       "      <td>135459000</td>\n",
       "      <td>135459000</td>\n",
       "      <td>138217000</td>\n",
       "      <td>138217000</td>\n",
       "      <td>2.0</td>\n",
       "    </tr>\n",
       "    <tr>\n",
       "      <th>5</th>\n",
       "      <td>Tax Professionals</td>\n",
       "      <td>80286000</td>\n",
       "      <td>80286000</td>\n",
       "      <td>80630000</td>\n",
       "      <td>80630000</td>\n",
       "      <td>0.4</td>\n",
       "    </tr>\n",
       "    <tr>\n",
       "      <th>6</th>\n",
       "      <td>Self-prepared</td>\n",
       "      <td>55173000</td>\n",
       "      <td>55173000</td>\n",
       "      <td>57587000</td>\n",
       "      <td>57587000</td>\n",
       "      <td>4.4</td>\n",
       "    </tr>\n",
       "    <tr>\n",
       "      <th>8</th>\n",
       "      <td>Web Usage:</td>\n",
       "      <td>NaN</td>\n",
       "      <td>NaN</td>\n",
       "      <td>NaN</td>\n",
       "      <td>NaN</td>\n",
       "      <td>NaN</td>\n",
       "    </tr>\n",
       "    <tr>\n",
       "      <th>9</th>\n",
       "      <td>Visits to IRS.gov</td>\n",
       "      <td>585027000</td>\n",
       "      <td>585027000</td>\n",
       "      <td>625522000</td>\n",
       "      <td>625522000</td>\n",
       "      <td>6.9</td>\n",
       "    </tr>\n",
       "    <tr>\n",
       "      <th>11</th>\n",
       "      <td>Total Refunds:</td>\n",
       "      <td>NaN</td>\n",
       "      <td>NaN</td>\n",
       "      <td>NaN</td>\n",
       "      <td>NaN</td>\n",
       "      <td>NaN</td>\n",
       "    </tr>\n",
       "    <tr>\n",
       "      <th>12</th>\n",
       "      <td>Number</td>\n",
       "      <td>111911000</td>\n",
       "      <td>111911000</td>\n",
       "      <td>111596000</td>\n",
       "      <td>111596000</td>\n",
       "      <td>-0.3</td>\n",
       "    </tr>\n",
       "    <tr>\n",
       "      <th>13</th>\n",
       "      <td>Amount</td>\n",
       "      <td>$324.426</td>\n",
       "      <td>Billion</td>\n",
       "      <td>$319.218</td>\n",
       "      <td>Billion</td>\n",
       "      <td>-1.6</td>\n",
       "    </tr>\n",
       "    <tr>\n",
       "      <th>14</th>\n",
       "      <td>Average refund</td>\n",
       "      <td>$2,899</td>\n",
       "      <td>$2,899</td>\n",
       "      <td>$2,860</td>\n",
       "      <td>$2,860</td>\n",
       "      <td>-1.3</td>\n",
       "    </tr>\n",
       "    <tr>\n",
       "      <th>16</th>\n",
       "      <td>Direct Deposit Refunds:</td>\n",
       "      <td>NaN</td>\n",
       "      <td>NaN</td>\n",
       "      <td>NaN</td>\n",
       "      <td>NaN</td>\n",
       "      <td>NaN</td>\n",
       "    </tr>\n",
       "    <tr>\n",
       "      <th>17</th>\n",
       "      <td>Number</td>\n",
       "      <td>90067000</td>\n",
       "      <td>90067000</td>\n",
       "      <td>91955000</td>\n",
       "      <td>91955000</td>\n",
       "      <td>2.1</td>\n",
       "    </tr>\n",
       "    <tr>\n",
       "      <th>18</th>\n",
       "      <td>Amount</td>\n",
       "      <td>$272.980</td>\n",
       "      <td>Billion</td>\n",
       "      <td>$273.525</td>\n",
       "      <td>Billion</td>\n",
       "      <td>0.2</td>\n",
       "    </tr>\n",
       "    <tr>\n",
       "      <th>19</th>\n",
       "      <td>Average refund</td>\n",
       "      <td>$3,031</td>\n",
       "      <td>$3,031</td>\n",
       "      <td>$2,975</td>\n",
       "      <td>$2,975</td>\n",
       "      <td>-1.9</td>\n",
       "    </tr>\n",
       "  </tbody>\n",
       "</table>\n",
       "</div>"
      ],
      "text/plain": [
       "   Individual Income Tax Returns:       2018     2018.1       2019     2019.1  \\\n",
       "0          Total Returns Received  154444000  154444000  155402000  155402000   \n",
       "1         Total Returns Processed  154058000  154058000  155096000  155096000   \n",
       "3              E-filing Receipts:        NaN        NaN        NaN        NaN   \n",
       "4                           TOTAL  135459000  135459000  138217000  138217000   \n",
       "5               Tax Professionals   80286000   80286000   80630000   80630000   \n",
       "6                   Self-prepared   55173000   55173000   57587000   57587000   \n",
       "8                      Web Usage:        NaN        NaN        NaN        NaN   \n",
       "9               Visits to IRS.gov  585027000  585027000  625522000  625522000   \n",
       "11                 Total Refunds:        NaN        NaN        NaN        NaN   \n",
       "12                         Number  111911000  111911000  111596000  111596000   \n",
       "13                         Amount   $324.426    Billion   $319.218    Billion   \n",
       "14                 Average refund     $2,899     $2,899     $2,860     $2,860   \n",
       "16        Direct Deposit Refunds:        NaN        NaN        NaN        NaN   \n",
       "17                         Number   90067000   90067000   91955000   91955000   \n",
       "18                         Amount   $272.980    Billion   $273.525    Billion   \n",
       "19                 Average refund     $3,031     $3,031     $2,975     $2,975   \n",
       "\n",
       "    % Change  \n",
       "0        0.6  \n",
       "1        0.7  \n",
       "3        NaN  \n",
       "4        2.0  \n",
       "5        0.4  \n",
       "6        4.4  \n",
       "8        NaN  \n",
       "9        6.9  \n",
       "11       NaN  \n",
       "12      -0.3  \n",
       "13      -1.6  \n",
       "14      -1.3  \n",
       "16       NaN  \n",
       "17       2.1  \n",
       "18       0.2  \n",
       "19      -1.9  "
      ]
     },
     "execution_count": 35,
     "metadata": {},
     "output_type": "execute_result"
    }
   ],
   "source": []
  },
  {
   "cell_type": "code",
   "execution_count": null,
   "metadata": {},
   "outputs": [],
   "source": []
  }
 ],
 "metadata": {
  "kernelspec": {
   "display_name": "Python 3",
   "language": "python",
   "name": "python3"
  },
  "language_info": {
   "codemirror_mode": {
    "name": "ipython",
    "version": 3
   },
   "file_extension": ".py",
   "mimetype": "text/x-python",
   "name": "python",
   "nbconvert_exporter": "python",
   "pygments_lexer": "ipython3",
   "version": "3.6.9"
  }
 },
 "nbformat": 4,
 "nbformat_minor": 2
}
